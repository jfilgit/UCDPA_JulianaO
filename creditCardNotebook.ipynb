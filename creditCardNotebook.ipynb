{
 "cells": [
  {
   "cell_type": "code",
   "execution_count": 3,
   "id": "f86674f7",
   "metadata": {},
   "outputs": [],
   "source": [
    "#The data contains 337825 credit card transaction made between 1 January 2019 to 31 December 2020. \n",
    "#The is_fraud column has been excluded as it is not relevant for the study\n",
    "#This data will be imported into a Pandas datafrme to facilitate data preparation\n",
    "\n",
    "# Import pandas\n",
    "import pandas as pd\n"
   ]
  },
  {
   "cell_type": "code",
   "execution_count": 4,
   "id": "1013d0b5",
   "metadata": {},
   "outputs": [],
   "source": [
    "ccData = pd.read_csv(r'C:\\Users\\Juli\\Desktop\\DataScienceCourse\\Project\\DataSet\\credit_card_dataWiP.csv')"
   ]
  },
  {
   "cell_type": "code",
   "execution_count": 5,
   "id": "a4c2ad35",
   "metadata": {},
   "outputs": [
    {
     "data": {
      "text/html": [
       "<div>\n",
       "<style scoped>\n",
       "    .dataframe tbody tr th:only-of-type {\n",
       "        vertical-align: middle;\n",
       "    }\n",
       "\n",
       "    .dataframe tbody tr th {\n",
       "        vertical-align: top;\n",
       "    }\n",
       "\n",
       "    .dataframe thead th {\n",
       "        text-align: right;\n",
       "    }\n",
       "</style>\n",
       "<table border=\"1\" class=\"dataframe\">\n",
       "  <thead>\n",
       "    <tr style=\"text-align: right;\">\n",
       "      <th></th>\n",
       "      <th>transDatetime</th>\n",
       "      <th>shopName</th>\n",
       "      <th>shopType</th>\n",
       "      <th>transAmount</th>\n",
       "      <th>cardHolderCity</th>\n",
       "      <th>cardHolderState</th>\n",
       "      <th>latLocationOfPurchase</th>\n",
       "      <th>longLocationOfPurchase</th>\n",
       "      <th>cityPop</th>\n",
       "      <th>job</th>\n",
       "      <th>dob</th>\n",
       "      <th>transNo</th>\n",
       "      <th>latitudeOfShop</th>\n",
       "      <th>longitudeOfShop</th>\n",
       "    </tr>\n",
       "  </thead>\n",
       "  <tbody>\n",
       "    <tr>\n",
       "      <th>0</th>\n",
       "      <td>01/01/2019 00:00</td>\n",
       "      <td>Heller, Gutmann and Zieme</td>\n",
       "      <td>grocery_pos</td>\n",
       "      <td>107.23</td>\n",
       "      <td>Orient</td>\n",
       "      <td>WA</td>\n",
       "      <td>48.8878</td>\n",
       "      <td>-118.2105</td>\n",
       "      <td>149</td>\n",
       "      <td>Special educational needs teacher</td>\n",
       "      <td>21/06/1978</td>\n",
       "      <td>1f76529f8574734946361c461b024d99</td>\n",
       "      <td>49.159047</td>\n",
       "      <td>-118.186462</td>\n",
       "    </tr>\n",
       "    <tr>\n",
       "      <th>1</th>\n",
       "      <td>01/01/2019 00:00</td>\n",
       "      <td>Lind-Buckridge</td>\n",
       "      <td>entertainment</td>\n",
       "      <td>220.11</td>\n",
       "      <td>Malad City</td>\n",
       "      <td>ID</td>\n",
       "      <td>42.1808</td>\n",
       "      <td>-112.2620</td>\n",
       "      <td>4154</td>\n",
       "      <td>Nature conservation officer</td>\n",
       "      <td>19/01/1962</td>\n",
       "      <td>a1a22d70485983eac12b5b88dad1cf95</td>\n",
       "      <td>43.150704</td>\n",
       "      <td>-112.154481</td>\n",
       "    </tr>\n",
       "    <tr>\n",
       "      <th>2</th>\n",
       "      <td>01/01/2019 00:07</td>\n",
       "      <td>Kiehn Inc</td>\n",
       "      <td>grocery_pos</td>\n",
       "      <td>96.29</td>\n",
       "      <td>Grenada</td>\n",
       "      <td>CA</td>\n",
       "      <td>41.6125</td>\n",
       "      <td>-122.5258</td>\n",
       "      <td>589</td>\n",
       "      <td>Systems analyst</td>\n",
       "      <td>21/12/1945</td>\n",
       "      <td>413636e759663f264aae1819a4d4f231</td>\n",
       "      <td>41.657520</td>\n",
       "      <td>-122.230347</td>\n",
       "    </tr>\n",
       "  </tbody>\n",
       "</table>\n",
       "</div>"
      ],
      "text/plain": [
       "      transDatetime                   shopName       shopType  transAmount  \\\n",
       "0  01/01/2019 00:00  Heller, Gutmann and Zieme    grocery_pos       107.23   \n",
       "1  01/01/2019 00:00             Lind-Buckridge  entertainment       220.11   \n",
       "2  01/01/2019 00:07                  Kiehn Inc    grocery_pos        96.29   \n",
       "\n",
       "  cardHolderCity cardHolderState  latLocationOfPurchase  \\\n",
       "0         Orient              WA                48.8878   \n",
       "1     Malad City              ID                42.1808   \n",
       "2        Grenada              CA                41.6125   \n",
       "\n",
       "   longLocationOfPurchase  cityPop                                job  \\\n",
       "0               -118.2105      149  Special educational needs teacher   \n",
       "1               -112.2620     4154        Nature conservation officer   \n",
       "2               -122.5258      589                    Systems analyst   \n",
       "\n",
       "          dob                           transNo  latitudeOfShop  \\\n",
       "0  21/06/1978  1f76529f8574734946361c461b024d99       49.159047   \n",
       "1  19/01/1962  a1a22d70485983eac12b5b88dad1cf95       43.150704   \n",
       "2  21/12/1945  413636e759663f264aae1819a4d4f231       41.657520   \n",
       "\n",
       "   longitudeOfShop  \n",
       "0      -118.186462  \n",
       "1      -112.154481  \n",
       "2      -122.230347  "
      ]
     },
     "execution_count": 5,
     "metadata": {},
     "output_type": "execute_result"
    }
   ],
   "source": [
    "# Show Inspect data to ensure as expected\n",
    "ccData.head(n=3)"
   ]
  },
  {
   "cell_type": "code",
   "execution_count": 6,
   "id": "37ef646b",
   "metadata": {},
   "outputs": [
    {
     "name": "stdout",
     "output_type": "stream",
     "text": [
      "(337825, 14)\n"
     ]
    }
   ],
   "source": [
    "#Show number of rows and columd in dataframe\n",
    "print(ccData.shape)"
   ]
  },
  {
   "cell_type": "code",
   "execution_count": 7,
   "id": "8ebae2ce",
   "metadata": {},
   "outputs": [
    {
     "data": {
      "text/html": [
       "<div>\n",
       "<style scoped>\n",
       "    .dataframe tbody tr th:only-of-type {\n",
       "        vertical-align: middle;\n",
       "    }\n",
       "\n",
       "    .dataframe tbody tr th {\n",
       "        vertical-align: top;\n",
       "    }\n",
       "\n",
       "    .dataframe thead th {\n",
       "        text-align: right;\n",
       "    }\n",
       "</style>\n",
       "<table border=\"1\" class=\"dataframe\">\n",
       "  <thead>\n",
       "    <tr style=\"text-align: right;\">\n",
       "      <th></th>\n",
       "      <th>transDatetime</th>\n",
       "      <th>shopName</th>\n",
       "      <th>shopType</th>\n",
       "      <th>transAmount</th>\n",
       "      <th>cardHolderCity</th>\n",
       "      <th>cardHolderState</th>\n",
       "      <th>latLocationOfPurchase</th>\n",
       "      <th>longLocationOfPurchase</th>\n",
       "      <th>cityPop</th>\n",
       "      <th>job</th>\n",
       "      <th>dob</th>\n",
       "      <th>latitudeOfShop</th>\n",
       "      <th>longitudeOfShop</th>\n",
       "    </tr>\n",
       "  </thead>\n",
       "  <tbody>\n",
       "    <tr>\n",
       "      <th>0</th>\n",
       "      <td>01/01/2019 00:00</td>\n",
       "      <td>Heller, Gutmann and Zieme</td>\n",
       "      <td>grocery_pos</td>\n",
       "      <td>107.23</td>\n",
       "      <td>Orient</td>\n",
       "      <td>WA</td>\n",
       "      <td>48.8878</td>\n",
       "      <td>-118.2105</td>\n",
       "      <td>149</td>\n",
       "      <td>Special educational needs teacher</td>\n",
       "      <td>21/06/1978</td>\n",
       "      <td>49.159047</td>\n",
       "      <td>-118.186462</td>\n",
       "    </tr>\n",
       "    <tr>\n",
       "      <th>1</th>\n",
       "      <td>01/01/2019 00:00</td>\n",
       "      <td>Lind-Buckridge</td>\n",
       "      <td>entertainment</td>\n",
       "      <td>220.11</td>\n",
       "      <td>Malad City</td>\n",
       "      <td>ID</td>\n",
       "      <td>42.1808</td>\n",
       "      <td>-112.2620</td>\n",
       "      <td>4154</td>\n",
       "      <td>Nature conservation officer</td>\n",
       "      <td>19/01/1962</td>\n",
       "      <td>43.150704</td>\n",
       "      <td>-112.154481</td>\n",
       "    </tr>\n",
       "  </tbody>\n",
       "</table>\n",
       "</div>"
      ],
      "text/plain": [
       "      transDatetime                   shopName       shopType  transAmount  \\\n",
       "0  01/01/2019 00:00  Heller, Gutmann and Zieme    grocery_pos       107.23   \n",
       "1  01/01/2019 00:00             Lind-Buckridge  entertainment       220.11   \n",
       "\n",
       "  cardHolderCity cardHolderState  latLocationOfPurchase  \\\n",
       "0         Orient              WA                48.8878   \n",
       "1     Malad City              ID                42.1808   \n",
       "\n",
       "   longLocationOfPurchase  cityPop                                job  \\\n",
       "0               -118.2105      149  Special educational needs teacher   \n",
       "1               -112.2620     4154        Nature conservation officer   \n",
       "\n",
       "          dob  latitudeOfShop  longitudeOfShop  \n",
       "0  21/06/1978       49.159047      -118.186462  \n",
       "1  19/01/1962       43.150704      -112.154481  "
      ]
     },
     "execution_count": 7,
     "metadata": {},
     "output_type": "execute_result"
    }
   ],
   "source": [
    "#Drop transNo column which is not relevant to the study as the default index can be used as a unique transaction identifier\n",
    "#The 'inplace' command is used to avoid having to re-assign the results of the drop command to a variable\n",
    "\n",
    "ccData.drop('transNo', inplace=True, axis=1)\n",
    "\n",
    "ccData.head(n=2)"
   ]
  },
  {
   "cell_type": "code",
   "execution_count": 8,
   "id": "a42808d3",
   "metadata": {},
   "outputs": [
    {
     "name": "stdout",
     "output_type": "stream",
     "text": [
      "(337825, 13)\n"
     ]
    }
   ],
   "source": [
    "#Confirm correct column has been dropped\n",
    "print(ccData.shape)"
   ]
  },
  {
   "cell_type": "code",
   "execution_count": null,
   "id": "c56adac4",
   "metadata": {},
   "outputs": [],
   "source": []
  }
 ],
 "metadata": {
  "kernelspec": {
   "display_name": "Python 3 (ipykernel)",
   "language": "python",
   "name": "python3"
  },
  "language_info": {
   "codemirror_mode": {
    "name": "ipython",
    "version": 3
   },
   "file_extension": ".py",
   "mimetype": "text/x-python",
   "name": "python",
   "nbconvert_exporter": "python",
   "pygments_lexer": "ipython3",
   "version": "3.9.7"
  }
 },
 "nbformat": 4,
 "nbformat_minor": 5
}
