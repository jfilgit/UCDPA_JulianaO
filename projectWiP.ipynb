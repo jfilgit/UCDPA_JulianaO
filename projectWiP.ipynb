{
 "cells": [
  {
   "cell_type": "markdown",
   "id": "65b0b96c",
   "metadata": {},
   "source": [
    "# Analysing Log File\n",
    "\n",
    "##  This will demonstrate the use of Regex for pattern extraction, merging dataframes and dropping duplicates"
   ]
  },
  {
   "cell_type": "markdown",
   "id": "49b52571",
   "metadata": {},
   "source": [
    "### Import text log file"
   ]
  },
  {
   "cell_type": "code",
   "execution_count": 4,
   "id": "f270a126",
   "metadata": {},
   "outputs": [],
   "source": [
    "#Import Regex library\n",
    "import pandas as pd\n",
    "import re\n",
    "\n",
    "#Read in the raw text log file\n",
    "logfile = open(r'C:\\Users\\Juli\\AssessmentUCD\\logFileRegex.txt', 'r')\n",
    "logFileText = logfile.read()\n",
    "logfile.close()"
   ]
  },
  {
   "cell_type": "markdown",
   "id": "3a4f7b3b",
   "metadata": {},
   "source": [
    "### Extract data for dataframe using regex to match patterns"
   ]
  },
  {
   "cell_type": "code",
   "execution_count": 6,
   "id": "89b15e03",
   "metadata": {},
   "outputs": [],
   "source": [
    "log_datetime = re.findall(r\"\\d{4}\\-\\d{2}\\-\\d{2}\\s\\d{2}\\:\\d{2}\\:\\d{2}\", logFileText)"
   ]
  },
  {
   "cell_type": "code",
   "execution_count": 7,
   "id": "373751a8",
   "metadata": {},
   "outputs": [],
   "source": [
    "process_id = re.findall(r\"PID\\=\\d{5}\", logFileText)"
   ]
  },
  {
   "cell_type": "code",
   "execution_count": 8,
   "id": "36093502",
   "metadata": {},
   "outputs": [],
   "source": [
    "task_id = re.findall(r\"TID\\=\\d{5}\", logFileText)"
   ]
  },
  {
   "cell_type": "markdown",
   "id": "30e8f5a2",
   "metadata": {},
   "source": [
    "### Check the number of items in each list created by regex"
   ]
  },
  {
   "cell_type": "code",
   "execution_count": 12,
   "id": "1419ac69",
   "metadata": {},
   "outputs": [
    {
     "name": "stdout",
     "output_type": "stream",
     "text": [
      "There are 54937 date items in the list\n",
      "There are 41596 process ID items in the list\n",
      "There are 40012 task items in the list\n"
     ]
    }
   ],
   "source": [
    "d = len(log_datetime)\n",
    "p = len(process_id)\n",
    "t = len(task_id)\n",
    "\n",
    "print(\"There are \" + str(d) + \" date items in the list\")\n",
    "print(\"There are \" + str(p) + \" process ID items in the list\")\n",
    "print(\"There are \" + str(t) + \" task items in the list\")"
   ]
  },
  {
   "cell_type": "markdown",
   "id": "3849be6c",
   "metadata": {},
   "source": [
    "### Convert the lists to single column dataframes and check number of items in each"
   ]
  },
  {
   "cell_type": "code",
   "execution_count": null,
   "id": "9cd19eb9",
   "metadata": {},
   "outputs": [],
   "source": []
  }
 ],
 "metadata": {
  "kernelspec": {
   "display_name": "Python 3 (ipykernel)",
   "language": "python",
   "name": "python3"
  },
  "language_info": {
   "codemirror_mode": {
    "name": "ipython",
    "version": 3
   },
   "file_extension": ".py",
   "mimetype": "text/x-python",
   "name": "python",
   "nbconvert_exporter": "python",
   "pygments_lexer": "ipython3",
   "version": "3.9.7"
  }
 },
 "nbformat": 4,
 "nbformat_minor": 5
}
