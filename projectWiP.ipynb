{
 "cells": [
  {
   "cell_type": "markdown",
   "id": "72645e97",
   "metadata": {},
   "source": [
    "# Analysing Log File\n",
    "\n",
    "##  This will demonstrate the use of Regex for pattern extraction, merging dataframes and dropping duplicates"
   ]
  },
  {
   "cell_type": "markdown",
   "id": "e36d1361",
   "metadata": {},
   "source": [
    "### Import text log file"
   ]
  },
  {
   "cell_type": "code",
   "execution_count": 4,
   "id": "e22f67e4",
   "metadata": {},
   "outputs": [],
   "source": [
    "#Import Regex library\n",
    "import pandas as pd\n",
    "import re\n",
    "\n",
    "#Read in the raw text log file\n",
    "logfile = open(r'C:\\Users\\Juli\\AssessmentUCD\\logFileRegex.txt', 'r')\n",
    "logFileText = logfile.read()\n",
    "logfile.close()"
   ]
  },
  {
   "cell_type": "markdown",
   "id": "810deb13",
   "metadata": {},
   "source": [
    "### Extract data for dataframe using regex to match patterns"
   ]
  },
  {
   "cell_type": "code",
   "execution_count": 6,
   "id": "06bcbff7",
   "metadata": {},
   "outputs": [],
   "source": [
    "log_datetime = re.findall(r\"\\d{4}\\-\\d{2}\\-\\d{2}\\s\\d{2}\\:\\d{2}\\:\\d{2}\", logFileText)"
   ]
  },
  {
   "cell_type": "code",
   "execution_count": 7,
   "id": "0e089150",
   "metadata": {},
   "outputs": [],
   "source": [
    "process_id = re.findall(r\"PID\\=\\d{5}\", logFileText)"
   ]
  },
  {
   "cell_type": "code",
   "execution_count": 8,
   "id": "ca4a381a",
   "metadata": {},
   "outputs": [],
   "source": [
    "task_id = re.findall(r\"TID\\=\\d{5}\", logFileText)"
   ]
  },
  {
   "cell_type": "markdown",
   "id": "dcce65be",
   "metadata": {},
   "source": [
    "### Check the number of items in each list created by regex"
   ]
  },
  {
   "cell_type": "code",
   "execution_count": 12,
   "id": "ac080675",
   "metadata": {},
   "outputs": [
    {
     "name": "stdout",
     "output_type": "stream",
     "text": [
      "There are 54937 date items in the list\n",
      "There are 41596 process ID items in the list\n",
      "There are 40012 task items in the list\n"
     ]
    }
   ],
   "source": [
    "d = len(log_datetime)\n",
    "p = len(process_id)\n",
    "t = len(task_id)\n",
    "\n",
    "print(\"There are \" + str(d) + \" date items in the list\")\n",
    "print(\"There are \" + str(p) + \" process ID items in the list\")\n",
    "print(\"There are \" + str(t) + \" task items in the list\")"
   ]
  },
  {
   "cell_type": "markdown",
   "id": "22098fae",
   "metadata": {},
   "source": [
    "### Convert the lists to single column dataframes and check number of items in each"
   ]
  },
  {
   "cell_type": "code",
   "execution_count": 13,
   "id": "5c56e343",
   "metadata": {},
   "outputs": [],
   "source": [
    "dateDF = pd.DataFrame({'process_date':log_datetime})"
   ]
  },
  {
   "cell_type": "code",
   "execution_count": 14,
   "id": "92aa3eac",
   "metadata": {},
   "outputs": [],
   "source": [
    "processDF = pd.DataFrame({'process_id':process_id})"
   ]
  },
  {
   "cell_type": "code",
   "execution_count": 15,
   "id": "1b8abf0e",
   "metadata": {},
   "outputs": [],
   "source": [
    "taskDF = pd.DataFrame({'task_id':task_id})"
   ]
  },
  {
   "cell_type": "markdown",
   "id": "6d23200c",
   "metadata": {},
   "source": [
    "### Confirm the number of items in each dataframe"
   ]
  },
  {
   "cell_type": "code",
   "execution_count": 16,
   "id": "e80c7756",
   "metadata": {},
   "outputs": [],
   "source": [
    "dateDFShape=dateDF.shape"
   ]
  },
  {
   "cell_type": "code",
   "execution_count": 17,
   "id": "0d03f489",
   "metadata": {},
   "outputs": [],
   "source": [
    "processDFShape=processDF.shape"
   ]
  },
  {
   "cell_type": "code",
   "execution_count": 18,
   "id": "44d74a7c",
   "metadata": {},
   "outputs": [],
   "source": [
    "taskDFShape=taskDF.shape"
   ]
  },
  {
   "cell_type": "markdown",
   "id": "27a512c7",
   "metadata": {},
   "source": [
    "### Capture the length of each dataframe in a variable"
   ]
  },
  {
   "cell_type": "code",
   "execution_count": 19,
   "id": "18aba776",
   "metadata": {},
   "outputs": [],
   "source": [
    "dateIndex=dateDFShape[0]"
   ]
  },
  {
   "cell_type": "code",
   "execution_count": 20,
   "id": "141fcbf4",
   "metadata": {},
   "outputs": [],
   "source": [
    "processIndex=processDFShape[0]"
   ]
  },
  {
   "cell_type": "code",
   "execution_count": 25,
   "id": "5097a394",
   "metadata": {},
   "outputs": [],
   "source": [
    "taskIndex=taskDFShape[0]"
   ]
  },
  {
   "cell_type": "markdown",
   "id": "6a4e69e6",
   "metadata": {},
   "source": [
    "### Create number lists for the dataframes in order to create comment index for merge operation"
   ]
  },
  {
   "cell_type": "code",
   "execution_count": 22,
   "id": "91f2aea1",
   "metadata": {},
   "outputs": [],
   "source": [
    "dateIndexList = list(range(dateIndex))"
   ]
  },
  {
   "cell_type": "code",
   "execution_count": 23,
   "id": "0882695d",
   "metadata": {},
   "outputs": [],
   "source": [
    "processIndexList = list(range(processIndex))"
   ]
  },
  {
   "cell_type": "code",
   "execution_count": 26,
   "id": "e0e59625",
   "metadata": {},
   "outputs": [],
   "source": [
    "taskIndexList = list(range(taskIndex))"
   ]
  },
  {
   "cell_type": "markdown",
   "id": "2b6d90e8",
   "metadata": {},
   "source": [
    "### Confirm number of items in the number list items is consistent with the number of rows in the dataframes"
   ]
  },
  {
   "cell_type": "code",
   "execution_count": 27,
   "id": "547e2bfc",
   "metadata": {},
   "outputs": [
    {
     "name": "stdout",
     "output_type": "stream",
     "text": [
      "There are 54937 date items in the date index list\n",
      "There are 41596 process ID items in the process index list\n",
      "There are 40012 task items in the task index list\n"
     ]
    }
   ],
   "source": [
    "print(\"There are \" + str(dateIndex) + \" date items in the date index list\")\n",
    "print(\"There are \" + str(processIndex) + \" process ID items in the process index list\")\n",
    "print(\"There are \" + str(taskIndex) + \" task items in the task index list\")"
   ]
  },
  {
   "cell_type": "markdown",
   "id": "afc5498b",
   "metadata": {},
   "source": [
    "### Add the number list to each dataframe"
   ]
  },
  {
   "cell_type": "code",
   "execution_count": 28,
   "id": "416d4711",
   "metadata": {},
   "outputs": [],
   "source": [
    "dateDF['row_index'] = dateIndexList"
   ]
  },
  {
   "cell_type": "code",
   "execution_count": 29,
   "id": "73417b76",
   "metadata": {},
   "outputs": [],
   "source": [
    "processDF['row_index'] = processIndexList"
   ]
  },
  {
   "cell_type": "code",
   "execution_count": 30,
   "id": "0e68933c",
   "metadata": {},
   "outputs": [],
   "source": [
    "taskDF['row_index'] = taskIndexList"
   ]
  },
  {
   "cell_type": "markdown",
   "id": "5f4b6b22",
   "metadata": {},
   "source": [
    "### Merge the firt two dataframes then merge that to the third dataframe"
   ]
  },
  {
   "cell_type": "code",
   "execution_count": 31,
   "id": "9398e0be",
   "metadata": {},
   "outputs": [],
   "source": [
    "dateProcessDF=pd.merge(dateDF, processDF, how='outer', on='row_index')"
   ]
  },
  {
   "cell_type": "code",
   "execution_count": 32,
   "id": "02073c9c",
   "metadata": {},
   "outputs": [],
   "source": [
    "dateProcessTaskDF=pd.merge(dateProcessDF, taskDF, how='outer', on='row_index')"
   ]
  },
  {
   "cell_type": "markdown",
   "id": "44e241ff",
   "metadata": {},
   "source": [
    "### Ensure that the  number of rows in the merged dataframe should be equal to the number in the largest single dataframe"
   ]
  },
  {
   "cell_type": "code",
   "execution_count": 33,
   "id": "926ccf79",
   "metadata": {},
   "outputs": [
    {
     "data": {
      "text/html": [
       "<div>\n",
       "<style scoped>\n",
       "    .dataframe tbody tr th:only-of-type {\n",
       "        vertical-align: middle;\n",
       "    }\n",
       "\n",
       "    .dataframe tbody tr th {\n",
       "        vertical-align: top;\n",
       "    }\n",
       "\n",
       "    .dataframe thead th {\n",
       "        text-align: right;\n",
       "    }\n",
       "</style>\n",
       "<table border=\"1\" class=\"dataframe\">\n",
       "  <thead>\n",
       "    <tr style=\"text-align: right;\">\n",
       "      <th></th>\n",
       "      <th>process_date</th>\n",
       "      <th>row_index</th>\n",
       "      <th>process_id</th>\n",
       "      <th>task_id</th>\n",
       "    </tr>\n",
       "  </thead>\n",
       "  <tbody>\n",
       "    <tr>\n",
       "      <th>0</th>\n",
       "      <td>2021-07-06 11:40:34</td>\n",
       "      <td>0</td>\n",
       "      <td>PID=31088</td>\n",
       "      <td>TID=36588</td>\n",
       "    </tr>\n",
       "    <tr>\n",
       "      <th>1</th>\n",
       "      <td>2021-07-06 11:40:34</td>\n",
       "      <td>1</td>\n",
       "      <td>PID=31088</td>\n",
       "      <td>TID=36588</td>\n",
       "    </tr>\n",
       "    <tr>\n",
       "      <th>2</th>\n",
       "      <td>2021-07-06 11:40:34</td>\n",
       "      <td>2</td>\n",
       "      <td>PID=31088</td>\n",
       "      <td>TID=36588</td>\n",
       "    </tr>\n",
       "    <tr>\n",
       "      <th>3</th>\n",
       "      <td>2021-07-06 11:40:34</td>\n",
       "      <td>3</td>\n",
       "      <td>PID=31088</td>\n",
       "      <td>TID=36588</td>\n",
       "    </tr>\n",
       "    <tr>\n",
       "      <th>4</th>\n",
       "      <td>2021-07-06 11:40:34</td>\n",
       "      <td>4</td>\n",
       "      <td>PID=31088</td>\n",
       "      <td>TID=36588</td>\n",
       "    </tr>\n",
       "    <tr>\n",
       "      <th>...</th>\n",
       "      <td>...</td>\n",
       "      <td>...</td>\n",
       "      <td>...</td>\n",
       "      <td>...</td>\n",
       "    </tr>\n",
       "    <tr>\n",
       "      <th>54932</th>\n",
       "      <td>2022-09-17 15:06:26</td>\n",
       "      <td>54932</td>\n",
       "      <td>NaN</td>\n",
       "      <td>NaN</td>\n",
       "    </tr>\n",
       "    <tr>\n",
       "      <th>54933</th>\n",
       "      <td>2022-09-17 15:06:26</td>\n",
       "      <td>54933</td>\n",
       "      <td>NaN</td>\n",
       "      <td>NaN</td>\n",
       "    </tr>\n",
       "    <tr>\n",
       "      <th>54934</th>\n",
       "      <td>2022-09-17 15:06:26</td>\n",
       "      <td>54934</td>\n",
       "      <td>NaN</td>\n",
       "      <td>NaN</td>\n",
       "    </tr>\n",
       "    <tr>\n",
       "      <th>54935</th>\n",
       "      <td>2022-09-17 15:06:26</td>\n",
       "      <td>54935</td>\n",
       "      <td>NaN</td>\n",
       "      <td>NaN</td>\n",
       "    </tr>\n",
       "    <tr>\n",
       "      <th>54936</th>\n",
       "      <td>2022-09-17 15:06:26</td>\n",
       "      <td>54936</td>\n",
       "      <td>NaN</td>\n",
       "      <td>NaN</td>\n",
       "    </tr>\n",
       "  </tbody>\n",
       "</table>\n",
       "<p>54937 rows × 4 columns</p>\n",
       "</div>"
      ],
      "text/plain": [
       "              process_date  row_index process_id    task_id\n",
       "0      2021-07-06 11:40:34          0  PID=31088  TID=36588\n",
       "1      2021-07-06 11:40:34          1  PID=31088  TID=36588\n",
       "2      2021-07-06 11:40:34          2  PID=31088  TID=36588\n",
       "3      2021-07-06 11:40:34          3  PID=31088  TID=36588\n",
       "4      2021-07-06 11:40:34          4  PID=31088  TID=36588\n",
       "...                    ...        ...        ...        ...\n",
       "54932  2022-09-17 15:06:26      54932        NaN        NaN\n",
       "54933  2022-09-17 15:06:26      54933        NaN        NaN\n",
       "54934  2022-09-17 15:06:26      54934        NaN        NaN\n",
       "54935  2022-09-17 15:06:26      54935        NaN        NaN\n",
       "54936  2022-09-17 15:06:26      54936        NaN        NaN\n",
       "\n",
       "[54937 rows x 4 columns]"
      ]
     },
     "execution_count": 33,
     "metadata": {},
     "output_type": "execute_result"
    }
   ],
   "source": [
    "dateProcessTaskDF"
   ]
  },
  {
   "cell_type": "markdown",
   "id": "d0c0fb6b",
   "metadata": {},
   "source": [
    "### Remove rows which have missing values and check the number of rows remaining"
   ]
  },
  {
   "cell_type": "code",
   "execution_count": 34,
   "id": "48295456",
   "metadata": {},
   "outputs": [],
   "source": [
    "dateProcessTaskDFNaN=dateProcessTaskDF.dropna(axis=0, how='any')"
   ]
  },
  {
   "cell_type": "code",
   "execution_count": 35,
   "id": "9b39607f",
   "metadata": {},
   "outputs": [
    {
     "data": {
      "text/html": [
       "<div>\n",
       "<style scoped>\n",
       "    .dataframe tbody tr th:only-of-type {\n",
       "        vertical-align: middle;\n",
       "    }\n",
       "\n",
       "    .dataframe tbody tr th {\n",
       "        vertical-align: top;\n",
       "    }\n",
       "\n",
       "    .dataframe thead th {\n",
       "        text-align: right;\n",
       "    }\n",
       "</style>\n",
       "<table border=\"1\" class=\"dataframe\">\n",
       "  <thead>\n",
       "    <tr style=\"text-align: right;\">\n",
       "      <th></th>\n",
       "      <th>process_date</th>\n",
       "      <th>row_index</th>\n",
       "      <th>process_id</th>\n",
       "      <th>task_id</th>\n",
       "    </tr>\n",
       "  </thead>\n",
       "  <tbody>\n",
       "    <tr>\n",
       "      <th>0</th>\n",
       "      <td>2021-07-06 11:40:34</td>\n",
       "      <td>0</td>\n",
       "      <td>PID=31088</td>\n",
       "      <td>TID=36588</td>\n",
       "    </tr>\n",
       "    <tr>\n",
       "      <th>1</th>\n",
       "      <td>2021-07-06 11:40:34</td>\n",
       "      <td>1</td>\n",
       "      <td>PID=31088</td>\n",
       "      <td>TID=36588</td>\n",
       "    </tr>\n",
       "    <tr>\n",
       "      <th>2</th>\n",
       "      <td>2021-07-06 11:40:34</td>\n",
       "      <td>2</td>\n",
       "      <td>PID=31088</td>\n",
       "      <td>TID=36588</td>\n",
       "    </tr>\n",
       "    <tr>\n",
       "      <th>3</th>\n",
       "      <td>2021-07-06 11:40:34</td>\n",
       "      <td>3</td>\n",
       "      <td>PID=31088</td>\n",
       "      <td>TID=36588</td>\n",
       "    </tr>\n",
       "    <tr>\n",
       "      <th>4</th>\n",
       "      <td>2021-07-06 11:40:34</td>\n",
       "      <td>4</td>\n",
       "      <td>PID=31088</td>\n",
       "      <td>TID=36588</td>\n",
       "    </tr>\n",
       "    <tr>\n",
       "      <th>...</th>\n",
       "      <td>...</td>\n",
       "      <td>...</td>\n",
       "      <td>...</td>\n",
       "      <td>...</td>\n",
       "    </tr>\n",
       "    <tr>\n",
       "      <th>40007</th>\n",
       "      <td>2021-07-07 23:21:18</td>\n",
       "      <td>40007</td>\n",
       "      <td>PID=19064</td>\n",
       "      <td>TID=15036</td>\n",
       "    </tr>\n",
       "    <tr>\n",
       "      <th>40008</th>\n",
       "      <td>2021-07-07 23:21:18</td>\n",
       "      <td>40008</td>\n",
       "      <td>PID=19064</td>\n",
       "      <td>TID=15036</td>\n",
       "    </tr>\n",
       "    <tr>\n",
       "      <th>40009</th>\n",
       "      <td>2021-07-07 23:21:19</td>\n",
       "      <td>40009</td>\n",
       "      <td>PID=19064</td>\n",
       "      <td>TID=15036</td>\n",
       "    </tr>\n",
       "    <tr>\n",
       "      <th>40010</th>\n",
       "      <td>2021-07-07 23:21:19</td>\n",
       "      <td>40010</td>\n",
       "      <td>PID=19064</td>\n",
       "      <td>TID=15036</td>\n",
       "    </tr>\n",
       "    <tr>\n",
       "      <th>40011</th>\n",
       "      <td>2021-07-07 23:21:19</td>\n",
       "      <td>40011</td>\n",
       "      <td>PID=19064</td>\n",
       "      <td>TID=15036</td>\n",
       "    </tr>\n",
       "  </tbody>\n",
       "</table>\n",
       "<p>40012 rows × 4 columns</p>\n",
       "</div>"
      ],
      "text/plain": [
       "              process_date  row_index process_id    task_id\n",
       "0      2021-07-06 11:40:34          0  PID=31088  TID=36588\n",
       "1      2021-07-06 11:40:34          1  PID=31088  TID=36588\n",
       "2      2021-07-06 11:40:34          2  PID=31088  TID=36588\n",
       "3      2021-07-06 11:40:34          3  PID=31088  TID=36588\n",
       "4      2021-07-06 11:40:34          4  PID=31088  TID=36588\n",
       "...                    ...        ...        ...        ...\n",
       "40007  2021-07-07 23:21:18      40007  PID=19064  TID=15036\n",
       "40008  2021-07-07 23:21:18      40008  PID=19064  TID=15036\n",
       "40009  2021-07-07 23:21:19      40009  PID=19064  TID=15036\n",
       "40010  2021-07-07 23:21:19      40010  PID=19064  TID=15036\n",
       "40011  2021-07-07 23:21:19      40011  PID=19064  TID=15036\n",
       "\n",
       "[40012 rows x 4 columns]"
      ]
     },
     "execution_count": 35,
     "metadata": {},
     "output_type": "execute_result"
    }
   ],
   "source": [
    "dateProcessTaskDFNaN"
   ]
  },
  {
   "cell_type": "markdown",
   "id": "1e6e640f",
   "metadata": {},
   "source": [
    "### Drop duplicates based on process_date, process_id and task_id retaining the first instance of the duplicate, and check the number of rows remaining"
   ]
  },
  {
   "cell_type": "code",
   "execution_count": 36,
   "id": "b9ef5e03",
   "metadata": {},
   "outputs": [],
   "source": [
    "dateProcessTaskDFNaNDeDup=dateProcessTaskDFNaN.drop_duplicates(['process_date', 'process_id', 'task_id'], keep=\"first\")"
   ]
  },
  {
   "cell_type": "code",
   "execution_count": 37,
   "id": "9a1df5c7",
   "metadata": {},
   "outputs": [
    {
     "data": {
      "text/html": [
       "<div>\n",
       "<style scoped>\n",
       "    .dataframe tbody tr th:only-of-type {\n",
       "        vertical-align: middle;\n",
       "    }\n",
       "\n",
       "    .dataframe tbody tr th {\n",
       "        vertical-align: top;\n",
       "    }\n",
       "\n",
       "    .dataframe thead th {\n",
       "        text-align: right;\n",
       "    }\n",
       "</style>\n",
       "<table border=\"1\" class=\"dataframe\">\n",
       "  <thead>\n",
       "    <tr style=\"text-align: right;\">\n",
       "      <th></th>\n",
       "      <th>process_date</th>\n",
       "      <th>row_index</th>\n",
       "      <th>process_id</th>\n",
       "      <th>task_id</th>\n",
       "    </tr>\n",
       "  </thead>\n",
       "  <tbody>\n",
       "    <tr>\n",
       "      <th>0</th>\n",
       "      <td>2021-07-06 11:40:34</td>\n",
       "      <td>0</td>\n",
       "      <td>PID=31088</td>\n",
       "      <td>TID=36588</td>\n",
       "    </tr>\n",
       "    <tr>\n",
       "      <th>12</th>\n",
       "      <td>2021-07-06 11:40:34</td>\n",
       "      <td>12</td>\n",
       "      <td>PID=31088</td>\n",
       "      <td>TID=28596</td>\n",
       "    </tr>\n",
       "    <tr>\n",
       "      <th>25</th>\n",
       "      <td>2021-07-06 11:40:34</td>\n",
       "      <td>25</td>\n",
       "      <td>PID=31088</td>\n",
       "      <td>TID=22436</td>\n",
       "    </tr>\n",
       "    <tr>\n",
       "      <th>59</th>\n",
       "      <td>2021-07-06 11:40:34</td>\n",
       "      <td>59</td>\n",
       "      <td>PID=42676</td>\n",
       "      <td>TID=36588</td>\n",
       "    </tr>\n",
       "    <tr>\n",
       "      <th>63</th>\n",
       "      <td>2021-07-06 11:40:34</td>\n",
       "      <td>63</td>\n",
       "      <td>PID=42676</td>\n",
       "      <td>TID=22436</td>\n",
       "    </tr>\n",
       "    <tr>\n",
       "      <th>...</th>\n",
       "      <td>...</td>\n",
       "      <td>...</td>\n",
       "      <td>...</td>\n",
       "      <td>...</td>\n",
       "    </tr>\n",
       "    <tr>\n",
       "      <th>39928</th>\n",
       "      <td>2021-07-07 23:21:18</td>\n",
       "      <td>39928</td>\n",
       "      <td>PID=16176</td>\n",
       "      <td>TID=17756</td>\n",
       "    </tr>\n",
       "    <tr>\n",
       "      <th>39936</th>\n",
       "      <td>2021-07-07 23:21:18</td>\n",
       "      <td>39936</td>\n",
       "      <td>PID=10136</td>\n",
       "      <td>TID=17756</td>\n",
       "    </tr>\n",
       "    <tr>\n",
       "      <th>39998</th>\n",
       "      <td>2021-07-07 23:21:18</td>\n",
       "      <td>39998</td>\n",
       "      <td>PID=19064</td>\n",
       "      <td>TID=17540</td>\n",
       "    </tr>\n",
       "    <tr>\n",
       "      <th>40006</th>\n",
       "      <td>2021-07-07 23:21:18</td>\n",
       "      <td>40006</td>\n",
       "      <td>PID=19064</td>\n",
       "      <td>TID=15036</td>\n",
       "    </tr>\n",
       "    <tr>\n",
       "      <th>40009</th>\n",
       "      <td>2021-07-07 23:21:19</td>\n",
       "      <td>40009</td>\n",
       "      <td>PID=19064</td>\n",
       "      <td>TID=15036</td>\n",
       "    </tr>\n",
       "  </tbody>\n",
       "</table>\n",
       "<p>2950 rows × 4 columns</p>\n",
       "</div>"
      ],
      "text/plain": [
       "              process_date  row_index process_id    task_id\n",
       "0      2021-07-06 11:40:34          0  PID=31088  TID=36588\n",
       "12     2021-07-06 11:40:34         12  PID=31088  TID=28596\n",
       "25     2021-07-06 11:40:34         25  PID=31088  TID=22436\n",
       "59     2021-07-06 11:40:34         59  PID=42676  TID=36588\n",
       "63     2021-07-06 11:40:34         63  PID=42676  TID=22436\n",
       "...                    ...        ...        ...        ...\n",
       "39928  2021-07-07 23:21:18      39928  PID=16176  TID=17756\n",
       "39936  2021-07-07 23:21:18      39936  PID=10136  TID=17756\n",
       "39998  2021-07-07 23:21:18      39998  PID=19064  TID=17540\n",
       "40006  2021-07-07 23:21:18      40006  PID=19064  TID=15036\n",
       "40009  2021-07-07 23:21:19      40009  PID=19064  TID=15036\n",
       "\n",
       "[2950 rows x 4 columns]"
      ]
     },
     "execution_count": 37,
     "metadata": {},
     "output_type": "execute_result"
    }
   ],
   "source": [
    "dateProcessTaskDFNaNDeDup"
   ]
  },
  {
   "cell_type": "code",
   "execution_count": null,
   "id": "5f4244ac",
   "metadata": {},
   "outputs": [],
   "source": [
    "for i,row in df.iterrows():\n",
    "    dateProcessTaskDFNaNDeDup.loc[i,'processTask_id'] = dateProcessTaskDFNaNDeDup.loc[i,'processTask_id']"
   ]
  }
 ],
 "metadata": {
  "kernelspec": {
   "display_name": "Python 3 (ipykernel)",
   "language": "python",
   "name": "python3"
  },
  "language_info": {
   "codemirror_mode": {
    "name": "ipython",
    "version": 3
   },
   "file_extension": ".py",
   "mimetype": "text/x-python",
   "name": "python",
   "nbconvert_exporter": "python",
   "pygments_lexer": "ipython3",
   "version": "3.9.7"
  }
 },
 "nbformat": 4,
 "nbformat_minor": 5
}
