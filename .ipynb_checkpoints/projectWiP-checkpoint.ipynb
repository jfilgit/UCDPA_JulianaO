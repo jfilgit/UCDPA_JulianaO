{
 "cells": [
  {
   "cell_type": "markdown",
   "id": "c1447b83",
   "metadata": {},
   "source": [
    "# Analysing Log File\n",
    "\n",
    "##  This will demonstrate the use of Regex for pattern extraction, merging dataframes and dropping duplicates"
   ]
  },
  {
   "cell_type": "markdown",
   "id": "28774478",
   "metadata": {},
   "source": [
    "### Import text log file"
   ]
  },
  {
   "cell_type": "code",
   "execution_count": 4,
   "id": "2d883be5",
   "metadata": {},
   "outputs": [],
   "source": [
    "#Import Regex library\n",
    "import pandas as pd\n",
    "import re\n",
    "\n",
    "#Read in the raw text log file\n",
    "logfile = open(r'C:\\Users\\Juli\\AssessmentUCD\\logFileRegex.txt', 'r')\n",
    "logFileText = logfile.read()\n",
    "logfile.close()"
   ]
  },
  {
   "cell_type": "markdown",
   "id": "0325bacf",
   "metadata": {},
   "source": [
    "### Extract data for dataframe using regex to match patterns"
   ]
  },
  {
   "cell_type": "code",
   "execution_count": 6,
   "id": "83a1cba9",
   "metadata": {},
   "outputs": [],
   "source": [
    "log_datetime = re.findall(r\"\\d{4}\\-\\d{2}\\-\\d{2}\\s\\d{2}\\:\\d{2}\\:\\d{2}\", logFileText)"
   ]
  },
  {
   "cell_type": "code",
   "execution_count": 7,
   "id": "cc4e252d",
   "metadata": {},
   "outputs": [],
   "source": [
    "process_id = re.findall(r\"PID\\=\\d{5}\", logFileText)"
   ]
  },
  {
   "cell_type": "code",
   "execution_count": 8,
   "id": "d08222b8",
   "metadata": {},
   "outputs": [],
   "source": [
    "task_id = re.findall(r\"TID\\=\\d{5}\", logFileText)"
   ]
  },
  {
   "cell_type": "markdown",
   "id": "7171884b",
   "metadata": {},
   "source": [
    "### Check the number of items in each list created by regex"
   ]
  },
  {
   "cell_type": "code",
   "execution_count": 12,
   "id": "f105689a",
   "metadata": {},
   "outputs": [
    {
     "name": "stdout",
     "output_type": "stream",
     "text": [
      "There are 54937 date items in the list\n",
      "There are 41596 process ID items in the list\n",
      "There are 40012 task items in the list\n"
     ]
    }
   ],
   "source": [
    "d = len(log_datetime)\n",
    "p = len(process_id)\n",
    "t = len(task_id)\n",
    "\n",
    "print(\"There are \" + str(d) + \" date items in the list\")\n",
    "print(\"There are \" + str(p) + \" process ID items in the list\")\n",
    "print(\"There are \" + str(t) + \" task items in the list\")"
   ]
  },
  {
   "cell_type": "markdown",
   "id": "e47fa356",
   "metadata": {},
   "source": [
    "### Convert the lists to single column dataframes and check number of items in each"
   ]
  },
  {
   "cell_type": "code",
   "execution_count": 13,
   "id": "034243f6",
   "metadata": {},
   "outputs": [],
   "source": [
    "dateDF = pd.DataFrame({'process_date':log_datetime})"
   ]
  },
  {
   "cell_type": "code",
   "execution_count": 14,
   "id": "a5e0e4d1",
   "metadata": {},
   "outputs": [],
   "source": [
    "processDF = pd.DataFrame({'process_id':process_id})"
   ]
  },
  {
   "cell_type": "code",
   "execution_count": 15,
   "id": "fc88a8fd",
   "metadata": {},
   "outputs": [],
   "source": [
    "taskDF = pd.DataFrame({'task_id':task_id})"
   ]
  },
  {
   "cell_type": "markdown",
   "id": "c2ffd137",
   "metadata": {},
   "source": [
    "### Confirm the number of items in each dataframe"
   ]
  },
  {
   "cell_type": "code",
   "execution_count": 16,
   "id": "620471bb",
   "metadata": {},
   "outputs": [],
   "source": [
    "dateDFShape=dateDF.shape"
   ]
  },
  {
   "cell_type": "code",
   "execution_count": 17,
   "id": "19905a66",
   "metadata": {},
   "outputs": [],
   "source": [
    "processDFShape=processDF.shape"
   ]
  },
  {
   "cell_type": "code",
   "execution_count": 18,
   "id": "e30d32c5",
   "metadata": {},
   "outputs": [],
   "source": [
    "taskDFShape=taskDF.shape"
   ]
  },
  {
   "cell_type": "markdown",
   "id": "50fe6e28",
   "metadata": {},
   "source": [
    "### Capture the length of each dataframe in a variable"
   ]
  },
  {
   "cell_type": "code",
   "execution_count": 19,
   "id": "3c07851f",
   "metadata": {},
   "outputs": [],
   "source": [
    "dateIndex=dateDFShape[0]"
   ]
  },
  {
   "cell_type": "code",
   "execution_count": 20,
   "id": "96587794",
   "metadata": {},
   "outputs": [],
   "source": [
    "processIndex=processDFShape[0]"
   ]
  },
  {
   "cell_type": "code",
   "execution_count": 25,
   "id": "c4f962a8",
   "metadata": {},
   "outputs": [],
   "source": [
    "taskIndex=taskDFShape[0]"
   ]
  },
  {
   "cell_type": "markdown",
   "id": "362d2eed",
   "metadata": {},
   "source": [
    "### Create number lists for the dataframes in order to create comment index for merge operation"
   ]
  },
  {
   "cell_type": "code",
   "execution_count": 22,
   "id": "37a57826",
   "metadata": {},
   "outputs": [],
   "source": [
    "dateIndexList = list(range(dateIndex))"
   ]
  },
  {
   "cell_type": "code",
   "execution_count": 23,
   "id": "ca353c3f",
   "metadata": {},
   "outputs": [],
   "source": [
    "processIndexList = list(range(processIndex))"
   ]
  },
  {
   "cell_type": "code",
   "execution_count": 26,
   "id": "2215d86b",
   "metadata": {},
   "outputs": [],
   "source": [
    "taskIndexList = list(range(taskIndex))"
   ]
  },
  {
   "cell_type": "markdown",
   "id": "ee5bb825",
   "metadata": {},
   "source": [
    "### Confirm number of items in the number list items is consistent with the number of rows in the dataframes"
   ]
  },
  {
   "cell_type": "code",
   "execution_count": 27,
   "id": "3d29b3cf",
   "metadata": {},
   "outputs": [
    {
     "name": "stdout",
     "output_type": "stream",
     "text": [
      "There are 54937 date items in the date index list\n",
      "There are 41596 process ID items in the process index list\n",
      "There are 40012 task items in the task index list\n"
     ]
    }
   ],
   "source": [
    "print(\"There are \" + str(dateIndex) + \" date items in the date index list\")\n",
    "print(\"There are \" + str(processIndex) + \" process ID items in the process index list\")\n",
    "print(\"There are \" + str(taskIndex) + \" task items in the task index list\")"
   ]
  },
  {
   "cell_type": "markdown",
   "id": "5f3d9934",
   "metadata": {},
   "source": [
    "### Add the number list to each dataframe"
   ]
  },
  {
   "cell_type": "code",
   "execution_count": 28,
   "id": "59abe67b",
   "metadata": {},
   "outputs": [],
   "source": [
    "dateDF['row_index'] = dateIndexList"
   ]
  },
  {
   "cell_type": "code",
   "execution_count": 29,
   "id": "38e92929",
   "metadata": {},
   "outputs": [],
   "source": [
    "processDF['row_index'] = processIndexList"
   ]
  },
  {
   "cell_type": "code",
   "execution_count": 30,
   "id": "c62b671f",
   "metadata": {},
   "outputs": [],
   "source": [
    "taskDF['row_index'] = taskIndexList"
   ]
  },
  {
   "cell_type": "markdown",
   "id": "59b74ce3",
   "metadata": {},
   "source": [
    "### Merge the firt two dataframes then merge that to the third dataframe"
   ]
  },
  {
   "cell_type": "code",
   "execution_count": 31,
   "id": "1058c0bb",
   "metadata": {},
   "outputs": [],
   "source": [
    "dateProcessDF=pd.merge(dateDF, processDF, how='outer', on='row_index')"
   ]
  },
  {
   "cell_type": "code",
   "execution_count": 32,
   "id": "71f1ee6c",
   "metadata": {},
   "outputs": [],
   "source": [
    "dateProcessTaskDF=pd.merge(dateProcessDF, taskDF, how='outer', on='row_index')"
   ]
  },
  {
   "cell_type": "markdown",
   "id": "7b12832b",
   "metadata": {},
   "source": [
    "### Ensure that the  number of rows in the merged dataframe should be equal to the number in the largest single dataframe"
   ]
  },
  {
   "cell_type": "code",
   "execution_count": 33,
   "id": "161db26f",
   "metadata": {},
   "outputs": [
    {
     "data": {
      "text/html": [
       "<div>\n",
       "<style scoped>\n",
       "    .dataframe tbody tr th:only-of-type {\n",
       "        vertical-align: middle;\n",
       "    }\n",
       "\n",
       "    .dataframe tbody tr th {\n",
       "        vertical-align: top;\n",
       "    }\n",
       "\n",
       "    .dataframe thead th {\n",
       "        text-align: right;\n",
       "    }\n",
       "</style>\n",
       "<table border=\"1\" class=\"dataframe\">\n",
       "  <thead>\n",
       "    <tr style=\"text-align: right;\">\n",
       "      <th></th>\n",
       "      <th>process_date</th>\n",
       "      <th>row_index</th>\n",
       "      <th>process_id</th>\n",
       "      <th>task_id</th>\n",
       "    </tr>\n",
       "  </thead>\n",
       "  <tbody>\n",
       "    <tr>\n",
       "      <th>0</th>\n",
       "      <td>2021-07-06 11:40:34</td>\n",
       "      <td>0</td>\n",
       "      <td>PID=31088</td>\n",
       "      <td>TID=36588</td>\n",
       "    </tr>\n",
       "    <tr>\n",
       "      <th>1</th>\n",
       "      <td>2021-07-06 11:40:34</td>\n",
       "      <td>1</td>\n",
       "      <td>PID=31088</td>\n",
       "      <td>TID=36588</td>\n",
       "    </tr>\n",
       "    <tr>\n",
       "      <th>2</th>\n",
       "      <td>2021-07-06 11:40:34</td>\n",
       "      <td>2</td>\n",
       "      <td>PID=31088</td>\n",
       "      <td>TID=36588</td>\n",
       "    </tr>\n",
       "    <tr>\n",
       "      <th>3</th>\n",
       "      <td>2021-07-06 11:40:34</td>\n",
       "      <td>3</td>\n",
       "      <td>PID=31088</td>\n",
       "      <td>TID=36588</td>\n",
       "    </tr>\n",
       "    <tr>\n",
       "      <th>4</th>\n",
       "      <td>2021-07-06 11:40:34</td>\n",
       "      <td>4</td>\n",
       "      <td>PID=31088</td>\n",
       "      <td>TID=36588</td>\n",
       "    </tr>\n",
       "    <tr>\n",
       "      <th>...</th>\n",
       "      <td>...</td>\n",
       "      <td>...</td>\n",
       "      <td>...</td>\n",
       "      <td>...</td>\n",
       "    </tr>\n",
       "    <tr>\n",
       "      <th>54932</th>\n",
       "      <td>2022-09-17 15:06:26</td>\n",
       "      <td>54932</td>\n",
       "      <td>NaN</td>\n",
       "      <td>NaN</td>\n",
       "    </tr>\n",
       "    <tr>\n",
       "      <th>54933</th>\n",
       "      <td>2022-09-17 15:06:26</td>\n",
       "      <td>54933</td>\n",
       "      <td>NaN</td>\n",
       "      <td>NaN</td>\n",
       "    </tr>\n",
       "    <tr>\n",
       "      <th>54934</th>\n",
       "      <td>2022-09-17 15:06:26</td>\n",
       "      <td>54934</td>\n",
       "      <td>NaN</td>\n",
       "      <td>NaN</td>\n",
       "    </tr>\n",
       "    <tr>\n",
       "      <th>54935</th>\n",
       "      <td>2022-09-17 15:06:26</td>\n",
       "      <td>54935</td>\n",
       "      <td>NaN</td>\n",
       "      <td>NaN</td>\n",
       "    </tr>\n",
       "    <tr>\n",
       "      <th>54936</th>\n",
       "      <td>2022-09-17 15:06:26</td>\n",
       "      <td>54936</td>\n",
       "      <td>NaN</td>\n",
       "      <td>NaN</td>\n",
       "    </tr>\n",
       "  </tbody>\n",
       "</table>\n",
       "<p>54937 rows × 4 columns</p>\n",
       "</div>"
      ],
      "text/plain": [
       "              process_date  row_index process_id    task_id\n",
       "0      2021-07-06 11:40:34          0  PID=31088  TID=36588\n",
       "1      2021-07-06 11:40:34          1  PID=31088  TID=36588\n",
       "2      2021-07-06 11:40:34          2  PID=31088  TID=36588\n",
       "3      2021-07-06 11:40:34          3  PID=31088  TID=36588\n",
       "4      2021-07-06 11:40:34          4  PID=31088  TID=36588\n",
       "...                    ...        ...        ...        ...\n",
       "54932  2022-09-17 15:06:26      54932        NaN        NaN\n",
       "54933  2022-09-17 15:06:26      54933        NaN        NaN\n",
       "54934  2022-09-17 15:06:26      54934        NaN        NaN\n",
       "54935  2022-09-17 15:06:26      54935        NaN        NaN\n",
       "54936  2022-09-17 15:06:26      54936        NaN        NaN\n",
       "\n",
       "[54937 rows x 4 columns]"
      ]
     },
     "execution_count": 33,
     "metadata": {},
     "output_type": "execute_result"
    }
   ],
   "source": [
    "dateProcessTaskDF"
   ]
  },
  {
   "cell_type": "markdown",
   "id": "356c8f0d",
   "metadata": {},
   "source": [
    "### Remove rows which have missing values and check the number of rows remaining"
   ]
  },
  {
   "cell_type": "code",
   "execution_count": 34,
   "id": "d0677411",
   "metadata": {},
   "outputs": [],
   "source": [
    "dateProcessTaskDFNaN=dateProcessTaskDF.dropna(axis=0, how='any')"
   ]
  },
  {
   "cell_type": "code",
   "execution_count": 35,
   "id": "18b966c4",
   "metadata": {},
   "outputs": [
    {
     "data": {
      "text/html": [
       "<div>\n",
       "<style scoped>\n",
       "    .dataframe tbody tr th:only-of-type {\n",
       "        vertical-align: middle;\n",
       "    }\n",
       "\n",
       "    .dataframe tbody tr th {\n",
       "        vertical-align: top;\n",
       "    }\n",
       "\n",
       "    .dataframe thead th {\n",
       "        text-align: right;\n",
       "    }\n",
       "</style>\n",
       "<table border=\"1\" class=\"dataframe\">\n",
       "  <thead>\n",
       "    <tr style=\"text-align: right;\">\n",
       "      <th></th>\n",
       "      <th>process_date</th>\n",
       "      <th>row_index</th>\n",
       "      <th>process_id</th>\n",
       "      <th>task_id</th>\n",
       "    </tr>\n",
       "  </thead>\n",
       "  <tbody>\n",
       "    <tr>\n",
       "      <th>0</th>\n",
       "      <td>2021-07-06 11:40:34</td>\n",
       "      <td>0</td>\n",
       "      <td>PID=31088</td>\n",
       "      <td>TID=36588</td>\n",
       "    </tr>\n",
       "    <tr>\n",
       "      <th>1</th>\n",
       "      <td>2021-07-06 11:40:34</td>\n",
       "      <td>1</td>\n",
       "      <td>PID=31088</td>\n",
       "      <td>TID=36588</td>\n",
       "    </tr>\n",
       "    <tr>\n",
       "      <th>2</th>\n",
       "      <td>2021-07-06 11:40:34</td>\n",
       "      <td>2</td>\n",
       "      <td>PID=31088</td>\n",
       "      <td>TID=36588</td>\n",
       "    </tr>\n",
       "    <tr>\n",
       "      <th>3</th>\n",
       "      <td>2021-07-06 11:40:34</td>\n",
       "      <td>3</td>\n",
       "      <td>PID=31088</td>\n",
       "      <td>TID=36588</td>\n",
       "    </tr>\n",
       "    <tr>\n",
       "      <th>4</th>\n",
       "      <td>2021-07-06 11:40:34</td>\n",
       "      <td>4</td>\n",
       "      <td>PID=31088</td>\n",
       "      <td>TID=36588</td>\n",
       "    </tr>\n",
       "    <tr>\n",
       "      <th>...</th>\n",
       "      <td>...</td>\n",
       "      <td>...</td>\n",
       "      <td>...</td>\n",
       "      <td>...</td>\n",
       "    </tr>\n",
       "    <tr>\n",
       "      <th>40007</th>\n",
       "      <td>2021-07-07 23:21:18</td>\n",
       "      <td>40007</td>\n",
       "      <td>PID=19064</td>\n",
       "      <td>TID=15036</td>\n",
       "    </tr>\n",
       "    <tr>\n",
       "      <th>40008</th>\n",
       "      <td>2021-07-07 23:21:18</td>\n",
       "      <td>40008</td>\n",
       "      <td>PID=19064</td>\n",
       "      <td>TID=15036</td>\n",
       "    </tr>\n",
       "    <tr>\n",
       "      <th>40009</th>\n",
       "      <td>2021-07-07 23:21:19</td>\n",
       "      <td>40009</td>\n",
       "      <td>PID=19064</td>\n",
       "      <td>TID=15036</td>\n",
       "    </tr>\n",
       "    <tr>\n",
       "      <th>40010</th>\n",
       "      <td>2021-07-07 23:21:19</td>\n",
       "      <td>40010</td>\n",
       "      <td>PID=19064</td>\n",
       "      <td>TID=15036</td>\n",
       "    </tr>\n",
       "    <tr>\n",
       "      <th>40011</th>\n",
       "      <td>2021-07-07 23:21:19</td>\n",
       "      <td>40011</td>\n",
       "      <td>PID=19064</td>\n",
       "      <td>TID=15036</td>\n",
       "    </tr>\n",
       "  </tbody>\n",
       "</table>\n",
       "<p>40012 rows × 4 columns</p>\n",
       "</div>"
      ],
      "text/plain": [
       "              process_date  row_index process_id    task_id\n",
       "0      2021-07-06 11:40:34          0  PID=31088  TID=36588\n",
       "1      2021-07-06 11:40:34          1  PID=31088  TID=36588\n",
       "2      2021-07-06 11:40:34          2  PID=31088  TID=36588\n",
       "3      2021-07-06 11:40:34          3  PID=31088  TID=36588\n",
       "4      2021-07-06 11:40:34          4  PID=31088  TID=36588\n",
       "...                    ...        ...        ...        ...\n",
       "40007  2021-07-07 23:21:18      40007  PID=19064  TID=15036\n",
       "40008  2021-07-07 23:21:18      40008  PID=19064  TID=15036\n",
       "40009  2021-07-07 23:21:19      40009  PID=19064  TID=15036\n",
       "40010  2021-07-07 23:21:19      40010  PID=19064  TID=15036\n",
       "40011  2021-07-07 23:21:19      40011  PID=19064  TID=15036\n",
       "\n",
       "[40012 rows x 4 columns]"
      ]
     },
     "execution_count": 35,
     "metadata": {},
     "output_type": "execute_result"
    }
   ],
   "source": [
    "dateProcessTaskDFNaN"
   ]
  },
  {
   "cell_type": "markdown",
   "id": "e23f9aa1",
   "metadata": {},
   "source": [
    "### Drop duplicates based on process_date, process_id and task_id retaining the first instance of the duplicate, and check the number of rows remaining"
   ]
  },
  {
   "cell_type": "code",
   "execution_count": 36,
   "id": "fbe058ee",
   "metadata": {},
   "outputs": [],
   "source": [
    "dateProcessTaskDFNaNDeDup=dateProcessTaskDFNaN.drop_duplicates(['process_date', 'process_id', 'task_id'], keep=\"first\")"
   ]
  },
  {
   "cell_type": "code",
   "execution_count": 37,
   "id": "b64c233d",
   "metadata": {},
   "outputs": [
    {
     "data": {
      "text/html": [
       "<div>\n",
       "<style scoped>\n",
       "    .dataframe tbody tr th:only-of-type {\n",
       "        vertical-align: middle;\n",
       "    }\n",
       "\n",
       "    .dataframe tbody tr th {\n",
       "        vertical-align: top;\n",
       "    }\n",
       "\n",
       "    .dataframe thead th {\n",
       "        text-align: right;\n",
       "    }\n",
       "</style>\n",
       "<table border=\"1\" class=\"dataframe\">\n",
       "  <thead>\n",
       "    <tr style=\"text-align: right;\">\n",
       "      <th></th>\n",
       "      <th>process_date</th>\n",
       "      <th>row_index</th>\n",
       "      <th>process_id</th>\n",
       "      <th>task_id</th>\n",
       "    </tr>\n",
       "  </thead>\n",
       "  <tbody>\n",
       "    <tr>\n",
       "      <th>0</th>\n",
       "      <td>2021-07-06 11:40:34</td>\n",
       "      <td>0</td>\n",
       "      <td>PID=31088</td>\n",
       "      <td>TID=36588</td>\n",
       "    </tr>\n",
       "    <tr>\n",
       "      <th>12</th>\n",
       "      <td>2021-07-06 11:40:34</td>\n",
       "      <td>12</td>\n",
       "      <td>PID=31088</td>\n",
       "      <td>TID=28596</td>\n",
       "    </tr>\n",
       "    <tr>\n",
       "      <th>25</th>\n",
       "      <td>2021-07-06 11:40:34</td>\n",
       "      <td>25</td>\n",
       "      <td>PID=31088</td>\n",
       "      <td>TID=22436</td>\n",
       "    </tr>\n",
       "    <tr>\n",
       "      <th>59</th>\n",
       "      <td>2021-07-06 11:40:34</td>\n",
       "      <td>59</td>\n",
       "      <td>PID=42676</td>\n",
       "      <td>TID=36588</td>\n",
       "    </tr>\n",
       "    <tr>\n",
       "      <th>63</th>\n",
       "      <td>2021-07-06 11:40:34</td>\n",
       "      <td>63</td>\n",
       "      <td>PID=42676</td>\n",
       "      <td>TID=22436</td>\n",
       "    </tr>\n",
       "    <tr>\n",
       "      <th>...</th>\n",
       "      <td>...</td>\n",
       "      <td>...</td>\n",
       "      <td>...</td>\n",
       "      <td>...</td>\n",
       "    </tr>\n",
       "    <tr>\n",
       "      <th>39928</th>\n",
       "      <td>2021-07-07 23:21:18</td>\n",
       "      <td>39928</td>\n",
       "      <td>PID=16176</td>\n",
       "      <td>TID=17756</td>\n",
       "    </tr>\n",
       "    <tr>\n",
       "      <th>39936</th>\n",
       "      <td>2021-07-07 23:21:18</td>\n",
       "      <td>39936</td>\n",
       "      <td>PID=10136</td>\n",
       "      <td>TID=17756</td>\n",
       "    </tr>\n",
       "    <tr>\n",
       "      <th>39998</th>\n",
       "      <td>2021-07-07 23:21:18</td>\n",
       "      <td>39998</td>\n",
       "      <td>PID=19064</td>\n",
       "      <td>TID=17540</td>\n",
       "    </tr>\n",
       "    <tr>\n",
       "      <th>40006</th>\n",
       "      <td>2021-07-07 23:21:18</td>\n",
       "      <td>40006</td>\n",
       "      <td>PID=19064</td>\n",
       "      <td>TID=15036</td>\n",
       "    </tr>\n",
       "    <tr>\n",
       "      <th>40009</th>\n",
       "      <td>2021-07-07 23:21:19</td>\n",
       "      <td>40009</td>\n",
       "      <td>PID=19064</td>\n",
       "      <td>TID=15036</td>\n",
       "    </tr>\n",
       "  </tbody>\n",
       "</table>\n",
       "<p>2950 rows × 4 columns</p>\n",
       "</div>"
      ],
      "text/plain": [
       "              process_date  row_index process_id    task_id\n",
       "0      2021-07-06 11:40:34          0  PID=31088  TID=36588\n",
       "12     2021-07-06 11:40:34         12  PID=31088  TID=28596\n",
       "25     2021-07-06 11:40:34         25  PID=31088  TID=22436\n",
       "59     2021-07-06 11:40:34         59  PID=42676  TID=36588\n",
       "63     2021-07-06 11:40:34         63  PID=42676  TID=22436\n",
       "...                    ...        ...        ...        ...\n",
       "39928  2021-07-07 23:21:18      39928  PID=16176  TID=17756\n",
       "39936  2021-07-07 23:21:18      39936  PID=10136  TID=17756\n",
       "39998  2021-07-07 23:21:18      39998  PID=19064  TID=17540\n",
       "40006  2021-07-07 23:21:18      40006  PID=19064  TID=15036\n",
       "40009  2021-07-07 23:21:19      40009  PID=19064  TID=15036\n",
       "\n",
       "[2950 rows x 4 columns]"
      ]
     },
     "execution_count": 37,
     "metadata": {},
     "output_type": "execute_result"
    }
   ],
   "source": [
    "dateProcessTaskDFNaNDeDup"
   ]
  },
  {
   "cell_type": "markdown",
   "id": "7e6b00cc",
   "metadata": {},
   "source": [
    "### Use dataframe iterator iterrows to create a new column with two existing columns"
   ]
  },
  {
   "cell_type": "code",
   "execution_count": 40,
   "id": "948a68e1",
   "metadata": {},
   "outputs": [
    {
     "name": "stderr",
     "output_type": "stream",
     "text": [
      "C:\\Users\\Juli\\anaconda3\\lib\\site-packages\\pandas\\core\\indexing.py:1684: SettingWithCopyWarning: \n",
      "A value is trying to be set on a copy of a slice from a DataFrame.\n",
      "Try using .loc[row_indexer,col_indexer] = value instead\n",
      "\n",
      "See the caveats in the documentation: https://pandas.pydata.org/pandas-docs/stable/user_guide/indexing.html#returning-a-view-versus-a-copy\n",
      "  self.obj[key] = infer_fill_value(value)\n",
      "C:\\Users\\Juli\\anaconda3\\lib\\site-packages\\pandas\\core\\indexing.py:1817: SettingWithCopyWarning: \n",
      "A value is trying to be set on a copy of a slice from a DataFrame.\n",
      "Try using .loc[row_indexer,col_indexer] = value instead\n",
      "\n",
      "See the caveats in the documentation: https://pandas.pydata.org/pandas-docs/stable/user_guide/indexing.html#returning-a-view-versus-a-copy\n",
      "  self._setitem_single_column(loc, value, pi)\n"
     ]
    }
   ],
   "source": [
    "for i,row in dateProcessTaskDFNaNDeDup.iterrows():\n",
    "    dateProcessTaskDFNaNDeDup.loc[i,'processTask_id'] = dateProcessTaskDFNaNDeDup.loc[i,'process_id']+dateProcessTaskDFNaNDeDup.loc[i,'task_id']"
   ]
  },
  {
   "cell_type": "markdown",
   "id": "509ac385",
   "metadata": {},
   "source": [
    "### Under normal circumstances, I would have investigated this warning further but given the time constraints, and the fact the that the command worked, I will  review this warning at a later date"
   ]
  },
  {
   "cell_type": "code",
   "execution_count": 41,
   "id": "7b2216c9",
   "metadata": {},
   "outputs": [
    {
     "data": {
      "text/html": [
       "<div>\n",
       "<style scoped>\n",
       "    .dataframe tbody tr th:only-of-type {\n",
       "        vertical-align: middle;\n",
       "    }\n",
       "\n",
       "    .dataframe tbody tr th {\n",
       "        vertical-align: top;\n",
       "    }\n",
       "\n",
       "    .dataframe thead th {\n",
       "        text-align: right;\n",
       "    }\n",
       "</style>\n",
       "<table border=\"1\" class=\"dataframe\">\n",
       "  <thead>\n",
       "    <tr style=\"text-align: right;\">\n",
       "      <th></th>\n",
       "      <th>process_date</th>\n",
       "      <th>row_index</th>\n",
       "      <th>process_id</th>\n",
       "      <th>task_id</th>\n",
       "      <th>processTask_id</th>\n",
       "    </tr>\n",
       "  </thead>\n",
       "  <tbody>\n",
       "    <tr>\n",
       "      <th>0</th>\n",
       "      <td>2021-07-06 11:40:34</td>\n",
       "      <td>0</td>\n",
       "      <td>PID=31088</td>\n",
       "      <td>TID=36588</td>\n",
       "      <td>PID=31088TID=36588</td>\n",
       "    </tr>\n",
       "    <tr>\n",
       "      <th>12</th>\n",
       "      <td>2021-07-06 11:40:34</td>\n",
       "      <td>12</td>\n",
       "      <td>PID=31088</td>\n",
       "      <td>TID=28596</td>\n",
       "      <td>PID=31088TID=28596</td>\n",
       "    </tr>\n",
       "    <tr>\n",
       "      <th>25</th>\n",
       "      <td>2021-07-06 11:40:34</td>\n",
       "      <td>25</td>\n",
       "      <td>PID=31088</td>\n",
       "      <td>TID=22436</td>\n",
       "      <td>PID=31088TID=22436</td>\n",
       "    </tr>\n",
       "    <tr>\n",
       "      <th>59</th>\n",
       "      <td>2021-07-06 11:40:34</td>\n",
       "      <td>59</td>\n",
       "      <td>PID=42676</td>\n",
       "      <td>TID=36588</td>\n",
       "      <td>PID=42676TID=36588</td>\n",
       "    </tr>\n",
       "    <tr>\n",
       "      <th>63</th>\n",
       "      <td>2021-07-06 11:40:34</td>\n",
       "      <td>63</td>\n",
       "      <td>PID=42676</td>\n",
       "      <td>TID=22436</td>\n",
       "      <td>PID=42676TID=22436</td>\n",
       "    </tr>\n",
       "    <tr>\n",
       "      <th>...</th>\n",
       "      <td>...</td>\n",
       "      <td>...</td>\n",
       "      <td>...</td>\n",
       "      <td>...</td>\n",
       "      <td>...</td>\n",
       "    </tr>\n",
       "    <tr>\n",
       "      <th>39928</th>\n",
       "      <td>2021-07-07 23:21:18</td>\n",
       "      <td>39928</td>\n",
       "      <td>PID=16176</td>\n",
       "      <td>TID=17756</td>\n",
       "      <td>PID=16176TID=17756</td>\n",
       "    </tr>\n",
       "    <tr>\n",
       "      <th>39936</th>\n",
       "      <td>2021-07-07 23:21:18</td>\n",
       "      <td>39936</td>\n",
       "      <td>PID=10136</td>\n",
       "      <td>TID=17756</td>\n",
       "      <td>PID=10136TID=17756</td>\n",
       "    </tr>\n",
       "    <tr>\n",
       "      <th>39998</th>\n",
       "      <td>2021-07-07 23:21:18</td>\n",
       "      <td>39998</td>\n",
       "      <td>PID=19064</td>\n",
       "      <td>TID=17540</td>\n",
       "      <td>PID=19064TID=17540</td>\n",
       "    </tr>\n",
       "    <tr>\n",
       "      <th>40006</th>\n",
       "      <td>2021-07-07 23:21:18</td>\n",
       "      <td>40006</td>\n",
       "      <td>PID=19064</td>\n",
       "      <td>TID=15036</td>\n",
       "      <td>PID=19064TID=15036</td>\n",
       "    </tr>\n",
       "    <tr>\n",
       "      <th>40009</th>\n",
       "      <td>2021-07-07 23:21:19</td>\n",
       "      <td>40009</td>\n",
       "      <td>PID=19064</td>\n",
       "      <td>TID=15036</td>\n",
       "      <td>PID=19064TID=15036</td>\n",
       "    </tr>\n",
       "  </tbody>\n",
       "</table>\n",
       "<p>2950 rows × 5 columns</p>\n",
       "</div>"
      ],
      "text/plain": [
       "              process_date  row_index process_id    task_id  \\\n",
       "0      2021-07-06 11:40:34          0  PID=31088  TID=36588   \n",
       "12     2021-07-06 11:40:34         12  PID=31088  TID=28596   \n",
       "25     2021-07-06 11:40:34         25  PID=31088  TID=22436   \n",
       "59     2021-07-06 11:40:34         59  PID=42676  TID=36588   \n",
       "63     2021-07-06 11:40:34         63  PID=42676  TID=22436   \n",
       "...                    ...        ...        ...        ...   \n",
       "39928  2021-07-07 23:21:18      39928  PID=16176  TID=17756   \n",
       "39936  2021-07-07 23:21:18      39936  PID=10136  TID=17756   \n",
       "39998  2021-07-07 23:21:18      39998  PID=19064  TID=17540   \n",
       "40006  2021-07-07 23:21:18      40006  PID=19064  TID=15036   \n",
       "40009  2021-07-07 23:21:19      40009  PID=19064  TID=15036   \n",
       "\n",
       "           processTask_id  \n",
       "0      PID=31088TID=36588  \n",
       "12     PID=31088TID=28596  \n",
       "25     PID=31088TID=22436  \n",
       "59     PID=42676TID=36588  \n",
       "63     PID=42676TID=22436  \n",
       "...                   ...  \n",
       "39928  PID=16176TID=17756  \n",
       "39936  PID=10136TID=17756  \n",
       "39998  PID=19064TID=17540  \n",
       "40006  PID=19064TID=15036  \n",
       "40009  PID=19064TID=15036  \n",
       "\n",
       "[2950 rows x 5 columns]"
      ]
     },
     "execution_count": 41,
     "metadata": {},
     "output_type": "execute_result"
    }
   ],
   "source": [
    "dateProcessTaskDFNaNDeDup"
   ]
  },
  {
   "cell_type": "markdown",
   "id": "cf323c92",
   "metadata": {},
   "source": [
    "## Demonstrate Python skills with Numpy, dictionaries, lists and functions"
   ]
  },
  {
   "cell_type": "markdown",
   "id": "7c1a4b98",
   "metadata": {},
   "source": [
    "### Convert process date column in dataframe to numpy array"
   ]
  },
  {
   "cell_type": "code",
   "execution_count": 60,
   "id": "ae3ad1db",
   "metadata": {},
   "outputs": [],
   "source": [
    "import numpy as np\n",
    "#dateProcessTaskDFNaNDeDup[['process_date', 'processTask_id']].to_numpy()\n",
    "\n",
    "npDateArray = dateProcessTaskDFNaNDeDup[['process_date']].to_numpy()"
   ]
  },
  {
   "cell_type": "code",
   "execution_count": 61,
   "id": "59ff4728",
   "metadata": {},
   "outputs": [
    {
     "data": {
      "text/plain": [
       "array([['2021-07-06 11:40:34'],\n",
       "       ['2021-07-06 11:40:34'],\n",
       "       ['2021-07-06 11:40:34'],\n",
       "       ...,\n",
       "       ['2021-07-07 23:21:18'],\n",
       "       ['2021-07-07 23:21:18'],\n",
       "       ['2021-07-07 23:21:19']], dtype=object)"
      ]
     },
     "execution_count": 61,
     "metadata": {},
     "output_type": "execute_result"
    }
   ],
   "source": [
    "npDateArray"
   ]
  },
  {
   "cell_type": "markdown",
   "id": "d546be23",
   "metadata": {},
   "source": [
    "### Convert process date column to numpy datetime"
   ]
  },
  {
   "cell_type": "code",
   "execution_count": 62,
   "id": "0dcb3cb9",
   "metadata": {},
   "outputs": [],
   "source": [
    "npDatetimeArray = npDateArray\n",
    "npDatetimeArray = npDatetimeArray.astype('datetime64',copy=False)\n"
   ]
  },
  {
   "cell_type": "code",
   "execution_count": 63,
   "id": "2bebebda",
   "metadata": {},
   "outputs": [
    {
     "data": {
      "text/plain": [
       "array([['2021-07-06T11:40:34'],\n",
       "       ['2021-07-06T11:40:34'],\n",
       "       ['2021-07-06T11:40:34'],\n",
       "       ...,\n",
       "       ['2021-07-07T23:21:18'],\n",
       "       ['2021-07-07T23:21:18'],\n",
       "       ['2021-07-07T23:21:19']], dtype='datetime64[s]')"
      ]
     },
     "execution_count": 63,
     "metadata": {},
     "output_type": "execute_result"
    }
   ],
   "source": [
    "npDatetimeArray"
   ]
  },
  {
   "cell_type": "markdown",
   "id": "40ca440a",
   "metadata": {},
   "source": [
    "### With further processing, this numpy array can be used to conduct processing time analysis which will not be done here due to time constraints"
   ]
  },
  {
   "cell_type": "code",
   "execution_count": null,
   "id": "0442126e",
   "metadata": {},
   "outputs": [],
   "source": []
  },
  {
   "cell_type": "code",
   "execution_count": null,
   "id": "dfca53ad",
   "metadata": {},
   "outputs": [],
   "source": []
  },
  {
   "cell_type": "markdown",
   "id": "d94d424e",
   "metadata": {},
   "source": [
    "# Machine Learning"
   ]
  },
  {
   "cell_type": "markdown",
   "id": "9ec6e065",
   "metadata": {},
   "source": [
    "## Predict Target Variable"
   ]
  },
  {
   "cell_type": "markdown",
   "id": "911da303",
   "metadata": {},
   "source": [
    "### The data contains 337825 credit card transaction made between 1 January 2019 to 31 December 2020. \n",
    "### The is_fraud column has been excluded as it is not relevant for the study\n",
    "### This data will be imported into a Pandas datafrme to facilitate data preparation"
   ]
  },
  {
   "cell_type": "markdown",
   "id": "f5d430a1",
   "metadata": {},
   "source": [
    "### Read the data from the csv file into a pandas dataframe"
   ]
  },
  {
   "cell_type": "code",
   "execution_count": 78,
   "id": "8af00d9f",
   "metadata": {},
   "outputs": [],
   "source": [
    "#Import pandas\n",
    "import pandas as pd\n",
    "import numpy as np"
   ]
  },
  {
   "cell_type": "code",
   "execution_count": 74,
   "id": "a0043908",
   "metadata": {},
   "outputs": [],
   "source": [
    "# Import the credit card data\n",
    "ccData = pd.read_csv(r'C:\\Users\\Juli\\AssessmentUCD\\credit_card_data.csv')"
   ]
  },
  {
   "cell_type": "code",
   "execution_count": 76,
   "id": "b013f9db",
   "metadata": {},
   "outputs": [
    {
     "data": {
      "text/html": [
       "<div>\n",
       "<style scoped>\n",
       "    .dataframe tbody tr th:only-of-type {\n",
       "        vertical-align: middle;\n",
       "    }\n",
       "\n",
       "    .dataframe tbody tr th {\n",
       "        vertical-align: top;\n",
       "    }\n",
       "\n",
       "    .dataframe thead th {\n",
       "        text-align: right;\n",
       "    }\n",
       "</style>\n",
       "<table border=\"1\" class=\"dataframe\">\n",
       "  <thead>\n",
       "    <tr style=\"text-align: right;\">\n",
       "      <th></th>\n",
       "      <th>transDatetime</th>\n",
       "      <th>shopName</th>\n",
       "      <th>shopType</th>\n",
       "      <th>transAmount</th>\n",
       "      <th>cardHolderCity</th>\n",
       "      <th>cardHolderState</th>\n",
       "      <th>latLocationOfPurchase</th>\n",
       "      <th>longLocationOfPurchase</th>\n",
       "      <th>cityPop</th>\n",
       "      <th>job</th>\n",
       "      <th>dob</th>\n",
       "      <th>transNo</th>\n",
       "      <th>latitudeOfShop</th>\n",
       "      <th>longitudeOfShop</th>\n",
       "    </tr>\n",
       "  </thead>\n",
       "  <tbody>\n",
       "    <tr>\n",
       "      <th>0</th>\n",
       "      <td>01/01/2019 00:00</td>\n",
       "      <td>Heller, Gutmann and Zieme</td>\n",
       "      <td>grocery_pos</td>\n",
       "      <td>107.23</td>\n",
       "      <td>Orient</td>\n",
       "      <td>WA</td>\n",
       "      <td>48.8878</td>\n",
       "      <td>-118.2105</td>\n",
       "      <td>149</td>\n",
       "      <td>Special educational needs teacher</td>\n",
       "      <td>21/06/1978</td>\n",
       "      <td>1f76529f8574734946361c461b024d99</td>\n",
       "      <td>49.159047</td>\n",
       "      <td>-118.186462</td>\n",
       "    </tr>\n",
       "    <tr>\n",
       "      <th>1</th>\n",
       "      <td>01/01/2019 00:00</td>\n",
       "      <td>Lind-Buckridge</td>\n",
       "      <td>entertainment</td>\n",
       "      <td>220.11</td>\n",
       "      <td>Malad City</td>\n",
       "      <td>ID</td>\n",
       "      <td>42.1808</td>\n",
       "      <td>-112.2620</td>\n",
       "      <td>4154</td>\n",
       "      <td>Nature conservation officer</td>\n",
       "      <td>19/01/1962</td>\n",
       "      <td>a1a22d70485983eac12b5b88dad1cf95</td>\n",
       "      <td>43.150704</td>\n",
       "      <td>-112.154481</td>\n",
       "    </tr>\n",
       "    <tr>\n",
       "      <th>2</th>\n",
       "      <td>01/01/2019 00:07</td>\n",
       "      <td>Kiehn Inc</td>\n",
       "      <td>grocery_pos</td>\n",
       "      <td>96.29</td>\n",
       "      <td>Grenada</td>\n",
       "      <td>CA</td>\n",
       "      <td>41.6125</td>\n",
       "      <td>-122.5258</td>\n",
       "      <td>589</td>\n",
       "      <td>Systems analyst</td>\n",
       "      <td>21/12/1945</td>\n",
       "      <td>413636e759663f264aae1819a4d4f231</td>\n",
       "      <td>41.657520</td>\n",
       "      <td>-122.230347</td>\n",
       "    </tr>\n",
       "  </tbody>\n",
       "</table>\n",
       "</div>"
      ],
      "text/plain": [
       "      transDatetime                   shopName       shopType  transAmount  \\\n",
       "0  01/01/2019 00:00  Heller, Gutmann and Zieme    grocery_pos       107.23   \n",
       "1  01/01/2019 00:00             Lind-Buckridge  entertainment       220.11   \n",
       "2  01/01/2019 00:07                  Kiehn Inc    grocery_pos        96.29   \n",
       "\n",
       "  cardHolderCity cardHolderState  latLocationOfPurchase  \\\n",
       "0         Orient              WA                48.8878   \n",
       "1     Malad City              ID                42.1808   \n",
       "2        Grenada              CA                41.6125   \n",
       "\n",
       "   longLocationOfPurchase  cityPop                                job  \\\n",
       "0               -118.2105      149  Special educational needs teacher   \n",
       "1               -112.2620     4154        Nature conservation officer   \n",
       "2               -122.5258      589                    Systems analyst   \n",
       "\n",
       "          dob                           transNo  latitudeOfShop  \\\n",
       "0  21/06/1978  1f76529f8574734946361c461b024d99       49.159047   \n",
       "1  19/01/1962  a1a22d70485983eac12b5b88dad1cf95       43.150704   \n",
       "2  21/12/1945  413636e759663f264aae1819a4d4f231       41.657520   \n",
       "\n",
       "   longitudeOfShop  \n",
       "0      -118.186462  \n",
       "1      -112.154481  \n",
       "2      -122.230347  "
      ]
     },
     "execution_count": 76,
     "metadata": {},
     "output_type": "execute_result"
    }
   ],
   "source": [
    "# Inspect data to ensure it is as as expected\n",
    "ccData.head(n=3)"
   ]
  },
  {
   "cell_type": "code",
   "execution_count": 77,
   "id": "717b6a52",
   "metadata": {},
   "outputs": [
    {
     "name": "stdout",
     "output_type": "stream",
     "text": [
      "(337825, 14)\n"
     ]
    }
   ],
   "source": [
    "#Show number of rows and column in dataframe\n",
    "print(ccData.shape)"
   ]
  },
  {
   "cell_type": "markdown",
   "id": "0a5d7e8e",
   "metadata": {},
   "source": [
    "## Clean the Data"
   ]
  },
  {
   "cell_type": "markdown",
   "id": "ae822415",
   "metadata": {},
   "source": [
    "### Determine the number of missing values from the dataframe"
   ]
  },
  {
   "cell_type": "code",
   "execution_count": 84,
   "id": "74742a9a",
   "metadata": {},
   "outputs": [],
   "source": [
    "missValNum=ccData.isnull().sum()"
   ]
  },
  {
   "cell_type": "code",
   "execution_count": 86,
   "id": "00c7a5de",
   "metadata": {},
   "outputs": [
    {
     "name": "stdout",
     "output_type": "stream",
     "text": [
      "transDatetime             0\n",
      "shopName                  0\n",
      "shopType                  0\n",
      "transAmount               0\n",
      "cardHolderCity            0\n",
      "cardHolderState           0\n",
      "latLocationOfPurchase     0\n",
      "longLocationOfPurchase    0\n",
      "cityPop                   0\n",
      "job                       0\n",
      "dob                       0\n",
      "transNo                   0\n",
      "latitudeOfShop            0\n",
      "longitudeOfShop           0\n",
      "dtype: int64\n"
     ]
    }
   ],
   "source": [
    "print(missValNum)"
   ]
  },
  {
   "cell_type": "markdown",
   "id": "091b5b48",
   "metadata": {},
   "source": [
    "### Drop duplicates from the dataframe "
   ]
  },
  {
   "cell_type": "code",
   "execution_count": 88,
   "id": "2a1817ca",
   "metadata": {},
   "outputs": [],
   "source": [
    "#Check whether ther are any duplicate rows in the complete dataframe\n",
    "ccDataDeDup=ccData.drop_duplicates()"
   ]
  },
  {
   "cell_type": "code",
   "execution_count": 89,
   "id": "3a19591e",
   "metadata": {},
   "outputs": [
    {
     "name": "stdout",
     "output_type": "stream",
     "text": [
      "(337825, 14)\n"
     ]
    }
   ],
   "source": [
    "#Compare the deduped dataframe with the original\n",
    "print(ccData.shape)"
   ]
  },
  {
   "cell_type": "markdown",
   "id": "fa9f7d4e",
   "metadata": {},
   "source": [
    "### transNo is a uniqe identifier but it is not user friendly. Also, it may obscure duplicate transactions. The transNo will be dropped to ensure no duplicate transactions exist. A numbered list can be added to the dataframe later if necessary\n",
    "\n",
    "### The inplace command will be used to to avoid having to re-assign the results of the drop command to a new dataframe variable\n"
   ]
  },
  {
   "cell_type": "code",
   "execution_count": 95,
   "id": "1e34bafc",
   "metadata": {},
   "outputs": [],
   "source": [
    "#Drop the transNo column\n",
    "\n",
    "#Compare the deduped dataframe with the original\n",
    "print(ccData.shape)ccData.drop('transNo', inplace=True, axis=1)"
   ]
  },
  {
   "cell_type": "code",
   "execution_count": 96,
   "id": "3fa30b81",
   "metadata": {},
   "outputs": [
    {
     "name": "stdout",
     "output_type": "stream",
     "text": [
      "(337825, 13)\n"
     ]
    }
   ],
   "source": [
    "#Compare the the dataframe after transNo has been dropped\n",
    "print(ccData.shape)"
   ]
  },
  {
   "cell_type": "code",
   "execution_count": 97,
   "id": "76fe854f",
   "metadata": {},
   "outputs": [],
   "source": [
    "#Check whether there are any duplicate rows in the dataframe after transNo dropped\n",
    "ccDataDeDup=ccData.drop_duplicates()"
   ]
  },
  {
   "cell_type": "code",
   "execution_count": 98,
   "id": "895f7d34",
   "metadata": {},
   "outputs": [
    {
     "name": "stdout",
     "output_type": "stream",
     "text": [
      "(337825, 13)\n"
     ]
    }
   ],
   "source": [
    "#Compare the the dataframe after transNo has been dropped\n",
    "print(ccDataDeDup.shape)"
   ]
  },
  {
   "cell_type": "markdown",
   "id": "83794458",
   "metadata": {},
   "source": [
    "### Inspect the dataframe summary statistics"
   ]
  },
  {
   "cell_type": "code",
   "execution_count": 93,
   "id": "6bbf1322",
   "metadata": {},
   "outputs": [],
   "source": [
    "# Inspect dataframe stats\n",
    "ccDataDesc = ccData.describe()\n"
   ]
  },
  {
   "cell_type": "code",
   "execution_count": 94,
   "id": "dbbe1f30",
   "metadata": {},
   "outputs": [
    {
     "name": "stdout",
     "output_type": "stream",
     "text": [
      "         transAmount  latLocationOfPurchase  longLocationOfPurchase  \\\n",
      "count  337825.000000          337825.000000           337825.000000   \n",
      "mean       68.217523              39.715572             -110.618475   \n",
      "std       156.251647               5.090403               12.645880   \n",
      "min         1.000000              20.027100             -165.672300   \n",
      "25%         9.570000              36.715400             -120.093600   \n",
      "50%        46.250000              39.599400             -111.029200   \n",
      "75%        82.760000              41.710000             -100.621500   \n",
      "max     28948.900000              65.689900              -89.628700   \n",
      "\n",
      "            cityPop  latitudeOfShop  longitudeOfShop  \n",
      "count  3.378250e+05   337825.000000    337825.000000  \n",
      "mean   1.070911e+05       39.715556      -110.618198  \n",
      "std    2.929558e+05        5.126299        12.658430  \n",
      "min    4.600000e+01       19.027422      -166.671575  \n",
      "25%    4.710000e+02       36.815714      -119.817471  \n",
      "50%    1.645000e+03       39.584195      -111.031953  \n",
      "75%    3.543900e+04       42.190149      -100.355379  \n",
      "max    2.383912e+06       66.682905       -88.629203  \n"
     ]
    }
   ],
   "source": [
    "print(ccDataDesc)"
   ]
  },
  {
   "cell_type": "code",
   "execution_count": null,
   "id": "9373f0ea",
   "metadata": {},
   "outputs": [],
   "source": []
  }
 ],
 "metadata": {
  "kernelspec": {
   "display_name": "Python 3 (ipykernel)",
   "language": "python",
   "name": "python3"
  },
  "language_info": {
   "codemirror_mode": {
    "name": "ipython",
    "version": 3
   },
   "file_extension": ".py",
   "mimetype": "text/x-python",
   "name": "python",
   "nbconvert_exporter": "python",
   "pygments_lexer": "ipython3",
   "version": "3.9.7"
  }
 },
 "nbformat": 4,
 "nbformat_minor": 5
}
