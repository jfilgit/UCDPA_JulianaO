{
 "cells": [
  {
   "cell_type": "markdown",
   "id": "433591a3",
   "metadata": {},
   "source": [
    "# Analysing Log File\n",
    "\n",
    "##  This will demonstrate the use of Regex for pattern extraction, merging dataframes and dropping duplicates"
   ]
  },
  {
   "cell_type": "markdown",
   "id": "3060a2c2",
   "metadata": {},
   "source": [
    "### Import text log file"
   ]
  },
  {
   "cell_type": "code",
   "execution_count": 4,
   "id": "de3a0e82",
   "metadata": {},
   "outputs": [],
   "source": [
    "#Import Regex library\n",
    "import pandas as pd\n",
    "import re\n",
    "\n",
    "#Read in the raw text log file\n",
    "logfile = open(r'C:\\Users\\Juli\\AssessmentUCD\\logFileRegex.txt', 'r')\n",
    "logFileText = logfile.read()\n",
    "logfile.close()"
   ]
  },
  {
   "cell_type": "markdown",
   "id": "ad3f23a4",
   "metadata": {},
   "source": [
    "### Extract data for dataframe using regex to match patterns"
   ]
  },
  {
   "cell_type": "code",
   "execution_count": 6,
   "id": "5ce5ac19",
   "metadata": {},
   "outputs": [],
   "source": [
    "log_datetime = re.findall(r\"\\d{4}\\-\\d{2}\\-\\d{2}\\s\\d{2}\\:\\d{2}\\:\\d{2}\", logFileText)"
   ]
  },
  {
   "cell_type": "code",
   "execution_count": 7,
   "id": "9cd5c862",
   "metadata": {},
   "outputs": [],
   "source": [
    "process_id = re.findall(r\"PID\\=\\d{5}\", logFileText)"
   ]
  },
  {
   "cell_type": "code",
   "execution_count": 8,
   "id": "3133d244",
   "metadata": {},
   "outputs": [],
   "source": [
    "task_id = re.findall(r\"TID\\=\\d{5}\", logFileText)"
   ]
  },
  {
   "cell_type": "markdown",
   "id": "6bf48ad5",
   "metadata": {},
   "source": [
    "### Check the number of items in each list created by regex"
   ]
  },
  {
   "cell_type": "code",
   "execution_count": 12,
   "id": "76000eec",
   "metadata": {},
   "outputs": [
    {
     "name": "stdout",
     "output_type": "stream",
     "text": [
      "There are 54937 date items in the list\n",
      "There are 41596 process ID items in the list\n",
      "There are 40012 task items in the list\n"
     ]
    }
   ],
   "source": [
    "d = len(log_datetime)\n",
    "p = len(process_id)\n",
    "t = len(task_id)\n",
    "\n",
    "print(\"There are \" + str(d) + \" date items in the list\")\n",
    "print(\"There are \" + str(p) + \" process ID items in the list\")\n",
    "print(\"There are \" + str(t) + \" task items in the list\")"
   ]
  },
  {
   "cell_type": "markdown",
   "id": "d37ed052",
   "metadata": {},
   "source": [
    "### Convert the lists to single column dataframes and check number of items in each"
   ]
  },
  {
   "cell_type": "code",
   "execution_count": 13,
   "id": "885f4975",
   "metadata": {},
   "outputs": [],
   "source": [
    "dateDF = pd.DataFrame({'process_date':log_datetime})"
   ]
  },
  {
   "cell_type": "code",
   "execution_count": 14,
   "id": "251f7933",
   "metadata": {},
   "outputs": [],
   "source": [
    "processDF = pd.DataFrame({'process_id':process_id})"
   ]
  },
  {
   "cell_type": "code",
   "execution_count": 15,
   "id": "0a655d4a",
   "metadata": {},
   "outputs": [],
   "source": [
    "taskDF = pd.DataFrame({'task_id':task_id})"
   ]
  },
  {
   "cell_type": "markdown",
   "id": "a17ace44",
   "metadata": {},
   "source": [
    "### Confirm the number of items in each dataframe"
   ]
  },
  {
   "cell_type": "code",
   "execution_count": 16,
   "id": "0f4d4954",
   "metadata": {},
   "outputs": [],
   "source": [
    "dateDFShape=dateDF.shape"
   ]
  },
  {
   "cell_type": "code",
   "execution_count": 17,
   "id": "bb1304a2",
   "metadata": {},
   "outputs": [],
   "source": [
    "processDFShape=processDF.shape"
   ]
  },
  {
   "cell_type": "code",
   "execution_count": 18,
   "id": "986fdf9f",
   "metadata": {},
   "outputs": [],
   "source": [
    "taskDFShape=taskDF.shape"
   ]
  },
  {
   "cell_type": "markdown",
   "id": "d1883901",
   "metadata": {},
   "source": [
    "### Capture the length of each dataframe in a variable"
   ]
  },
  {
   "cell_type": "code",
   "execution_count": 19,
   "id": "aa44514e",
   "metadata": {},
   "outputs": [],
   "source": [
    "dateIndex=dateDFShape[0]"
   ]
  },
  {
   "cell_type": "code",
   "execution_count": 20,
   "id": "a41cdc57",
   "metadata": {},
   "outputs": [],
   "source": [
    "processIndex=processDFShape[0]"
   ]
  },
  {
   "cell_type": "code",
   "execution_count": 25,
   "id": "02b51ea7",
   "metadata": {},
   "outputs": [],
   "source": [
    "taskIndex=taskDFShape[0]"
   ]
  },
  {
   "cell_type": "markdown",
   "id": "ecaee3ed",
   "metadata": {},
   "source": [
    "### Create number lists for the dataframes in order to create comment index for merge operation"
   ]
  },
  {
   "cell_type": "code",
   "execution_count": 22,
   "id": "59067e48",
   "metadata": {},
   "outputs": [],
   "source": [
    "dateIndexList = list(range(dateIndex))"
   ]
  },
  {
   "cell_type": "code",
   "execution_count": 23,
   "id": "884c2260",
   "metadata": {},
   "outputs": [],
   "source": [
    "processIndexList = list(range(processIndex))"
   ]
  },
  {
   "cell_type": "code",
   "execution_count": 26,
   "id": "d6bd6b7d",
   "metadata": {},
   "outputs": [],
   "source": [
    "taskIndexList = list(range(taskIndex))"
   ]
  },
  {
   "cell_type": "markdown",
   "id": "38145e3d",
   "metadata": {},
   "source": [
    "### Confirm number of items in the number list items is consistent with the number of rows in the dataframes"
   ]
  },
  {
   "cell_type": "code",
   "execution_count": 27,
   "id": "3421c549",
   "metadata": {},
   "outputs": [
    {
     "name": "stdout",
     "output_type": "stream",
     "text": [
      "There are 54937 date items in the date index list\n",
      "There are 41596 process ID items in the process index list\n",
      "There are 40012 task items in the task index list\n"
     ]
    }
   ],
   "source": [
    "print(\"There are \" + str(dateIndex) + \" date items in the date index list\")\n",
    "print(\"There are \" + str(processIndex) + \" process ID items in the process index list\")\n",
    "print(\"There are \" + str(taskIndex) + \" task items in the task index list\")"
   ]
  },
  {
   "cell_type": "markdown",
   "id": "6d4753eb",
   "metadata": {},
   "source": [
    "### Add the number list to each dataframe"
   ]
  },
  {
   "cell_type": "code",
   "execution_count": 28,
   "id": "331b2a70",
   "metadata": {},
   "outputs": [],
   "source": [
    "dateDF['row_index'] = dateIndexList"
   ]
  },
  {
   "cell_type": "code",
   "execution_count": 29,
   "id": "954e4d01",
   "metadata": {},
   "outputs": [],
   "source": [
    "processDF['row_index'] = processIndexList"
   ]
  },
  {
   "cell_type": "code",
   "execution_count": 30,
   "id": "27bc4e5e",
   "metadata": {},
   "outputs": [],
   "source": [
    "taskDF['row_index'] = taskIndexList"
   ]
  },
  {
   "cell_type": "markdown",
   "id": "21584a51",
   "metadata": {},
   "source": [
    "### Merge the firt two dataframes then merge that to the third dataframe"
   ]
  },
  {
   "cell_type": "code",
   "execution_count": 31,
   "id": "62f8d34e",
   "metadata": {},
   "outputs": [],
   "source": [
    "dateProcessDF=pd.merge(dateDF, processDF, how='outer', on='row_index')"
   ]
  },
  {
   "cell_type": "code",
   "execution_count": 32,
   "id": "7f4e9efd",
   "metadata": {},
   "outputs": [],
   "source": [
    "dateProcessTaskDF=pd.merge(dateProcessDF, taskDF, how='outer', on='row_index')"
   ]
  },
  {
   "cell_type": "markdown",
   "id": "e27de305",
   "metadata": {},
   "source": [
    "### Ensure that the  number of rows in the merged dataframe should be equal to the number in the largest single dataframe"
   ]
  },
  {
   "cell_type": "code",
   "execution_count": 33,
   "id": "d6499ae2",
   "metadata": {},
   "outputs": [
    {
     "data": {
      "text/html": [
       "<div>\n",
       "<style scoped>\n",
       "    .dataframe tbody tr th:only-of-type {\n",
       "        vertical-align: middle;\n",
       "    }\n",
       "\n",
       "    .dataframe tbody tr th {\n",
       "        vertical-align: top;\n",
       "    }\n",
       "\n",
       "    .dataframe thead th {\n",
       "        text-align: right;\n",
       "    }\n",
       "</style>\n",
       "<table border=\"1\" class=\"dataframe\">\n",
       "  <thead>\n",
       "    <tr style=\"text-align: right;\">\n",
       "      <th></th>\n",
       "      <th>process_date</th>\n",
       "      <th>row_index</th>\n",
       "      <th>process_id</th>\n",
       "      <th>task_id</th>\n",
       "    </tr>\n",
       "  </thead>\n",
       "  <tbody>\n",
       "    <tr>\n",
       "      <th>0</th>\n",
       "      <td>2021-07-06 11:40:34</td>\n",
       "      <td>0</td>\n",
       "      <td>PID=31088</td>\n",
       "      <td>TID=36588</td>\n",
       "    </tr>\n",
       "    <tr>\n",
       "      <th>1</th>\n",
       "      <td>2021-07-06 11:40:34</td>\n",
       "      <td>1</td>\n",
       "      <td>PID=31088</td>\n",
       "      <td>TID=36588</td>\n",
       "    </tr>\n",
       "    <tr>\n",
       "      <th>2</th>\n",
       "      <td>2021-07-06 11:40:34</td>\n",
       "      <td>2</td>\n",
       "      <td>PID=31088</td>\n",
       "      <td>TID=36588</td>\n",
       "    </tr>\n",
       "    <tr>\n",
       "      <th>3</th>\n",
       "      <td>2021-07-06 11:40:34</td>\n",
       "      <td>3</td>\n",
       "      <td>PID=31088</td>\n",
       "      <td>TID=36588</td>\n",
       "    </tr>\n",
       "    <tr>\n",
       "      <th>4</th>\n",
       "      <td>2021-07-06 11:40:34</td>\n",
       "      <td>4</td>\n",
       "      <td>PID=31088</td>\n",
       "      <td>TID=36588</td>\n",
       "    </tr>\n",
       "    <tr>\n",
       "      <th>...</th>\n",
       "      <td>...</td>\n",
       "      <td>...</td>\n",
       "      <td>...</td>\n",
       "      <td>...</td>\n",
       "    </tr>\n",
       "    <tr>\n",
       "      <th>54932</th>\n",
       "      <td>2022-09-17 15:06:26</td>\n",
       "      <td>54932</td>\n",
       "      <td>NaN</td>\n",
       "      <td>NaN</td>\n",
       "    </tr>\n",
       "    <tr>\n",
       "      <th>54933</th>\n",
       "      <td>2022-09-17 15:06:26</td>\n",
       "      <td>54933</td>\n",
       "      <td>NaN</td>\n",
       "      <td>NaN</td>\n",
       "    </tr>\n",
       "    <tr>\n",
       "      <th>54934</th>\n",
       "      <td>2022-09-17 15:06:26</td>\n",
       "      <td>54934</td>\n",
       "      <td>NaN</td>\n",
       "      <td>NaN</td>\n",
       "    </tr>\n",
       "    <tr>\n",
       "      <th>54935</th>\n",
       "      <td>2022-09-17 15:06:26</td>\n",
       "      <td>54935</td>\n",
       "      <td>NaN</td>\n",
       "      <td>NaN</td>\n",
       "    </tr>\n",
       "    <tr>\n",
       "      <th>54936</th>\n",
       "      <td>2022-09-17 15:06:26</td>\n",
       "      <td>54936</td>\n",
       "      <td>NaN</td>\n",
       "      <td>NaN</td>\n",
       "    </tr>\n",
       "  </tbody>\n",
       "</table>\n",
       "<p>54937 rows × 4 columns</p>\n",
       "</div>"
      ],
      "text/plain": [
       "              process_date  row_index process_id    task_id\n",
       "0      2021-07-06 11:40:34          0  PID=31088  TID=36588\n",
       "1      2021-07-06 11:40:34          1  PID=31088  TID=36588\n",
       "2      2021-07-06 11:40:34          2  PID=31088  TID=36588\n",
       "3      2021-07-06 11:40:34          3  PID=31088  TID=36588\n",
       "4      2021-07-06 11:40:34          4  PID=31088  TID=36588\n",
       "...                    ...        ...        ...        ...\n",
       "54932  2022-09-17 15:06:26      54932        NaN        NaN\n",
       "54933  2022-09-17 15:06:26      54933        NaN        NaN\n",
       "54934  2022-09-17 15:06:26      54934        NaN        NaN\n",
       "54935  2022-09-17 15:06:26      54935        NaN        NaN\n",
       "54936  2022-09-17 15:06:26      54936        NaN        NaN\n",
       "\n",
       "[54937 rows x 4 columns]"
      ]
     },
     "execution_count": 33,
     "metadata": {},
     "output_type": "execute_result"
    }
   ],
   "source": [
    "dateProcessTaskDF"
   ]
  },
  {
   "cell_type": "markdown",
   "id": "087779b9",
   "metadata": {},
   "source": [
    "### Remove rows which have missing values and check the number of rows remaining"
   ]
  },
  {
   "cell_type": "code",
   "execution_count": 34,
   "id": "3931ae13",
   "metadata": {},
   "outputs": [],
   "source": [
    "dateProcessTaskDFNaN=dateProcessTaskDF.dropna(axis=0, how='any')"
   ]
  },
  {
   "cell_type": "code",
   "execution_count": 35,
   "id": "d7582da4",
   "metadata": {},
   "outputs": [
    {
     "data": {
      "text/html": [
       "<div>\n",
       "<style scoped>\n",
       "    .dataframe tbody tr th:only-of-type {\n",
       "        vertical-align: middle;\n",
       "    }\n",
       "\n",
       "    .dataframe tbody tr th {\n",
       "        vertical-align: top;\n",
       "    }\n",
       "\n",
       "    .dataframe thead th {\n",
       "        text-align: right;\n",
       "    }\n",
       "</style>\n",
       "<table border=\"1\" class=\"dataframe\">\n",
       "  <thead>\n",
       "    <tr style=\"text-align: right;\">\n",
       "      <th></th>\n",
       "      <th>process_date</th>\n",
       "      <th>row_index</th>\n",
       "      <th>process_id</th>\n",
       "      <th>task_id</th>\n",
       "    </tr>\n",
       "  </thead>\n",
       "  <tbody>\n",
       "    <tr>\n",
       "      <th>0</th>\n",
       "      <td>2021-07-06 11:40:34</td>\n",
       "      <td>0</td>\n",
       "      <td>PID=31088</td>\n",
       "      <td>TID=36588</td>\n",
       "    </tr>\n",
       "    <tr>\n",
       "      <th>1</th>\n",
       "      <td>2021-07-06 11:40:34</td>\n",
       "      <td>1</td>\n",
       "      <td>PID=31088</td>\n",
       "      <td>TID=36588</td>\n",
       "    </tr>\n",
       "    <tr>\n",
       "      <th>2</th>\n",
       "      <td>2021-07-06 11:40:34</td>\n",
       "      <td>2</td>\n",
       "      <td>PID=31088</td>\n",
       "      <td>TID=36588</td>\n",
       "    </tr>\n",
       "    <tr>\n",
       "      <th>3</th>\n",
       "      <td>2021-07-06 11:40:34</td>\n",
       "      <td>3</td>\n",
       "      <td>PID=31088</td>\n",
       "      <td>TID=36588</td>\n",
       "    </tr>\n",
       "    <tr>\n",
       "      <th>4</th>\n",
       "      <td>2021-07-06 11:40:34</td>\n",
       "      <td>4</td>\n",
       "      <td>PID=31088</td>\n",
       "      <td>TID=36588</td>\n",
       "    </tr>\n",
       "    <tr>\n",
       "      <th>...</th>\n",
       "      <td>...</td>\n",
       "      <td>...</td>\n",
       "      <td>...</td>\n",
       "      <td>...</td>\n",
       "    </tr>\n",
       "    <tr>\n",
       "      <th>40007</th>\n",
       "      <td>2021-07-07 23:21:18</td>\n",
       "      <td>40007</td>\n",
       "      <td>PID=19064</td>\n",
       "      <td>TID=15036</td>\n",
       "    </tr>\n",
       "    <tr>\n",
       "      <th>40008</th>\n",
       "      <td>2021-07-07 23:21:18</td>\n",
       "      <td>40008</td>\n",
       "      <td>PID=19064</td>\n",
       "      <td>TID=15036</td>\n",
       "    </tr>\n",
       "    <tr>\n",
       "      <th>40009</th>\n",
       "      <td>2021-07-07 23:21:19</td>\n",
       "      <td>40009</td>\n",
       "      <td>PID=19064</td>\n",
       "      <td>TID=15036</td>\n",
       "    </tr>\n",
       "    <tr>\n",
       "      <th>40010</th>\n",
       "      <td>2021-07-07 23:21:19</td>\n",
       "      <td>40010</td>\n",
       "      <td>PID=19064</td>\n",
       "      <td>TID=15036</td>\n",
       "    </tr>\n",
       "    <tr>\n",
       "      <th>40011</th>\n",
       "      <td>2021-07-07 23:21:19</td>\n",
       "      <td>40011</td>\n",
       "      <td>PID=19064</td>\n",
       "      <td>TID=15036</td>\n",
       "    </tr>\n",
       "  </tbody>\n",
       "</table>\n",
       "<p>40012 rows × 4 columns</p>\n",
       "</div>"
      ],
      "text/plain": [
       "              process_date  row_index process_id    task_id\n",
       "0      2021-07-06 11:40:34          0  PID=31088  TID=36588\n",
       "1      2021-07-06 11:40:34          1  PID=31088  TID=36588\n",
       "2      2021-07-06 11:40:34          2  PID=31088  TID=36588\n",
       "3      2021-07-06 11:40:34          3  PID=31088  TID=36588\n",
       "4      2021-07-06 11:40:34          4  PID=31088  TID=36588\n",
       "...                    ...        ...        ...        ...\n",
       "40007  2021-07-07 23:21:18      40007  PID=19064  TID=15036\n",
       "40008  2021-07-07 23:21:18      40008  PID=19064  TID=15036\n",
       "40009  2021-07-07 23:21:19      40009  PID=19064  TID=15036\n",
       "40010  2021-07-07 23:21:19      40010  PID=19064  TID=15036\n",
       "40011  2021-07-07 23:21:19      40011  PID=19064  TID=15036\n",
       "\n",
       "[40012 rows x 4 columns]"
      ]
     },
     "execution_count": 35,
     "metadata": {},
     "output_type": "execute_result"
    }
   ],
   "source": [
    "dateProcessTaskDFNaN"
   ]
  },
  {
   "cell_type": "markdown",
   "id": "b3726dfd",
   "metadata": {},
   "source": [
    "### Drop duplicates based on process_date, process_id and task_id retaining the first instance of the duplicate, and check the number of rows remaining"
   ]
  },
  {
   "cell_type": "code",
   "execution_count": 36,
   "id": "bf3dbb21",
   "metadata": {},
   "outputs": [],
   "source": [
    "dateProcessTaskDFNaNDeDup=dateProcessTaskDFNaN.drop_duplicates(['process_date', 'process_id', 'task_id'], keep=\"first\")"
   ]
  },
  {
   "cell_type": "code",
   "execution_count": 37,
   "id": "806e1999",
   "metadata": {},
   "outputs": [
    {
     "data": {
      "text/html": [
       "<div>\n",
       "<style scoped>\n",
       "    .dataframe tbody tr th:only-of-type {\n",
       "        vertical-align: middle;\n",
       "    }\n",
       "\n",
       "    .dataframe tbody tr th {\n",
       "        vertical-align: top;\n",
       "    }\n",
       "\n",
       "    .dataframe thead th {\n",
       "        text-align: right;\n",
       "    }\n",
       "</style>\n",
       "<table border=\"1\" class=\"dataframe\">\n",
       "  <thead>\n",
       "    <tr style=\"text-align: right;\">\n",
       "      <th></th>\n",
       "      <th>process_date</th>\n",
       "      <th>row_index</th>\n",
       "      <th>process_id</th>\n",
       "      <th>task_id</th>\n",
       "    </tr>\n",
       "  </thead>\n",
       "  <tbody>\n",
       "    <tr>\n",
       "      <th>0</th>\n",
       "      <td>2021-07-06 11:40:34</td>\n",
       "      <td>0</td>\n",
       "      <td>PID=31088</td>\n",
       "      <td>TID=36588</td>\n",
       "    </tr>\n",
       "    <tr>\n",
       "      <th>12</th>\n",
       "      <td>2021-07-06 11:40:34</td>\n",
       "      <td>12</td>\n",
       "      <td>PID=31088</td>\n",
       "      <td>TID=28596</td>\n",
       "    </tr>\n",
       "    <tr>\n",
       "      <th>25</th>\n",
       "      <td>2021-07-06 11:40:34</td>\n",
       "      <td>25</td>\n",
       "      <td>PID=31088</td>\n",
       "      <td>TID=22436</td>\n",
       "    </tr>\n",
       "    <tr>\n",
       "      <th>59</th>\n",
       "      <td>2021-07-06 11:40:34</td>\n",
       "      <td>59</td>\n",
       "      <td>PID=42676</td>\n",
       "      <td>TID=36588</td>\n",
       "    </tr>\n",
       "    <tr>\n",
       "      <th>63</th>\n",
       "      <td>2021-07-06 11:40:34</td>\n",
       "      <td>63</td>\n",
       "      <td>PID=42676</td>\n",
       "      <td>TID=22436</td>\n",
       "    </tr>\n",
       "    <tr>\n",
       "      <th>...</th>\n",
       "      <td>...</td>\n",
       "      <td>...</td>\n",
       "      <td>...</td>\n",
       "      <td>...</td>\n",
       "    </tr>\n",
       "    <tr>\n",
       "      <th>39928</th>\n",
       "      <td>2021-07-07 23:21:18</td>\n",
       "      <td>39928</td>\n",
       "      <td>PID=16176</td>\n",
       "      <td>TID=17756</td>\n",
       "    </tr>\n",
       "    <tr>\n",
       "      <th>39936</th>\n",
       "      <td>2021-07-07 23:21:18</td>\n",
       "      <td>39936</td>\n",
       "      <td>PID=10136</td>\n",
       "      <td>TID=17756</td>\n",
       "    </tr>\n",
       "    <tr>\n",
       "      <th>39998</th>\n",
       "      <td>2021-07-07 23:21:18</td>\n",
       "      <td>39998</td>\n",
       "      <td>PID=19064</td>\n",
       "      <td>TID=17540</td>\n",
       "    </tr>\n",
       "    <tr>\n",
       "      <th>40006</th>\n",
       "      <td>2021-07-07 23:21:18</td>\n",
       "      <td>40006</td>\n",
       "      <td>PID=19064</td>\n",
       "      <td>TID=15036</td>\n",
       "    </tr>\n",
       "    <tr>\n",
       "      <th>40009</th>\n",
       "      <td>2021-07-07 23:21:19</td>\n",
       "      <td>40009</td>\n",
       "      <td>PID=19064</td>\n",
       "      <td>TID=15036</td>\n",
       "    </tr>\n",
       "  </tbody>\n",
       "</table>\n",
       "<p>2950 rows × 4 columns</p>\n",
       "</div>"
      ],
      "text/plain": [
       "              process_date  row_index process_id    task_id\n",
       "0      2021-07-06 11:40:34          0  PID=31088  TID=36588\n",
       "12     2021-07-06 11:40:34         12  PID=31088  TID=28596\n",
       "25     2021-07-06 11:40:34         25  PID=31088  TID=22436\n",
       "59     2021-07-06 11:40:34         59  PID=42676  TID=36588\n",
       "63     2021-07-06 11:40:34         63  PID=42676  TID=22436\n",
       "...                    ...        ...        ...        ...\n",
       "39928  2021-07-07 23:21:18      39928  PID=16176  TID=17756\n",
       "39936  2021-07-07 23:21:18      39936  PID=10136  TID=17756\n",
       "39998  2021-07-07 23:21:18      39998  PID=19064  TID=17540\n",
       "40006  2021-07-07 23:21:18      40006  PID=19064  TID=15036\n",
       "40009  2021-07-07 23:21:19      40009  PID=19064  TID=15036\n",
       "\n",
       "[2950 rows x 4 columns]"
      ]
     },
     "execution_count": 37,
     "metadata": {},
     "output_type": "execute_result"
    }
   ],
   "source": [
    "dateProcessTaskDFNaNDeDup"
   ]
  },
  {
   "cell_type": "code",
   "execution_count": null,
   "id": "34b82de1",
   "metadata": {},
   "outputs": [],
   "source": []
  }
 ],
 "metadata": {
  "kernelspec": {
   "display_name": "Python 3 (ipykernel)",
   "language": "python",
   "name": "python3"
  },
  "language_info": {
   "codemirror_mode": {
    "name": "ipython",
    "version": 3
   },
   "file_extension": ".py",
   "mimetype": "text/x-python",
   "name": "python",
   "nbconvert_exporter": "python",
   "pygments_lexer": "ipython3",
   "version": "3.9.7"
  }
 },
 "nbformat": 4,
 "nbformat_minor": 5
}
